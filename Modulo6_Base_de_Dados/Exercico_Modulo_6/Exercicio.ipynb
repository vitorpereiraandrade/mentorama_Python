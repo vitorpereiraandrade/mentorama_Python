{
 "cells": [
  {
   "cell_type": "code",
   "execution_count": 20,
   "metadata": {
    "collapsed": true
   },
   "outputs": [],
   "source": [
    "import sqlite3\n",
    "banco = sqlite3.connect('empresas.db')"
   ]
  },
  {
   "cell_type": "code",
   "execution_count": 21,
   "outputs": [],
   "source": [
    "cursor = banco.cursor()"
   ],
   "metadata": {
    "collapsed": false
   }
  },
  {
   "cell_type": "code",
   "execution_count": 22,
   "outputs": [
    {
     "ename": "OperationalError",
     "evalue": "table funcionarios already exists",
     "output_type": "error",
     "traceback": [
      "\u001B[1;31m---------------------------------------------------------------------------\u001B[0m",
      "\u001B[1;31mOperationalError\u001B[0m                          Traceback (most recent call last)",
      "Cell \u001B[1;32mIn [22], line 1\u001B[0m\n\u001B[1;32m----> 1\u001B[0m \u001B[43mcursor\u001B[49m\u001B[38;5;241;43m.\u001B[39;49m\u001B[43mexecute\u001B[49m\u001B[43m(\u001B[49m\u001B[38;5;124;43m\"\u001B[39;49m\u001B[38;5;124;43mCREATE TABLE funcionarios(idCodigo integer, primeiroNome text, segundoNome text, ultimoNome text, dataNasci integer, cpf integer, rg integer,\u001B[39;49m\u001B[38;5;124;43m\"\u001B[39;49m\n\u001B[0;32m      2\u001B[0m \u001B[43m               \u001B[49m\u001B[38;5;124;43m\"\u001B[39;49m\u001B[38;5;124;43mendereco text, cep integer, cidade text, fone integer, codigoDepartamento integer, funcao text, salario integer) \u001B[39;49m\u001B[38;5;124;43m\"\u001B[39;49m\u001B[43m)\u001B[49m\n\u001B[0;32m      3\u001B[0m banco\u001B[38;5;241m.\u001B[39mcommit()\n",
      "\u001B[1;31mOperationalError\u001B[0m: table funcionarios already exists"
     ]
    }
   ],
   "source": [
    "cursor.execute(\"CREATE TABLE funcionarios(idCodigo integer, primeiroNome text, segundoNome text, ultimoNome text, dataNasci integer, cpf integer, rg integer,\"\n",
    "               \"endereco text, cep integer, cidade text, fone integer, codigoDepartamento integer, funcao text, salario integer) \")\n",
    "banco.commit()"
   ],
   "metadata": {
    "collapsed": false
   }
  },
  {
   "cell_type": "code",
   "execution_count": 44,
   "outputs": [
    {
     "name": "stdout",
     "output_type": "stream",
     "text": [
      "[(1, 'Maria', 'Aparecida', 'da Silva', 150478, 15587941025, 352478, 'Rua da Silva 22', 13258741, 'Sao Paulo', 117854287, 10, 'Adm', 1400), (2, 'Antonio', 'Jose', 'Pereira', 130195, 11155588877, 123487, 'Rua Jose 32', 13785520, 'Sao Paulo', 11897524, 12, 'Escritorio', 1500), (1, 'Maria', 'Aparecida', 'da Silva', '15/04/78', '155.879.410-25', 352478, 'Rua da Silva 22', '13258-741', 'Sao Paulo', '11-7854287', 10, 'Adm', 1400), (2, 'Antonio', 'Jose', 'Pereira', '13/01/95', '111.555.888-77', 123487, 'Rua Jose 32', '13785-520', 'Sao Paulo', '11-897524', 12, 'Escritorio', 1500), (1, 'Maria', 'Aparecida', 'da Silva', '15/04/78', '155.879.410-25', 352478, 'Rua da Silva 22', '13258-741', 'Sao Paulo', '11-7854287', 10, 'Adm', 1400), (2, 'Antonio', 'Jose', 'Pereira', '13/01/95', '111.555.888-77', 123487, 'Rua Jose 32', '13785-520', 'Sao Paulo', '11-897524', 12, 'Escritorio', 1500), (3, 'Jose', 'Antonio', 'Nogueira', '24/02/00', '123.858.777-85', 321456, 'Rua Jose 15', '13852-789', 'Sao Paulo', '15-859789', 10, 'Financas', 2000), (4, 'Matias', 'Antonio', 'Nascimento', '10/02/00', '723.858.777-85', 351456, 'Rua Matias 34', '13857-111', 'Campinas', '19-123456', 10, 'Desenvolvedor', 2500), (5, 'Vitor', 'Marco', 'Santos', '15/07/94', '523.958.777-85', 1121456, 'Rua Vitor 458', '11852-789', 'Tiete', '14-7959789', 20, 'Vendedor', 4500), (6, 'Marcio', 'Gaspar', 'Testo', '05/04/85', '897.258.777-85', 875987456, 'Rua Marcio 792', '23872-789', 'Bauru', '18-9785489', 12, 'Auxiliar', 1000), (7, 'Laercio', 'Pereira', 'Nogueira', '08/07/89', '123.857.012-87', 7777777, 'Rua Laercio 222', '58852-480', 'Campinas', '19-58794567', 20, 'Software', 5000), (8, 'Sabrina', 'Fogaca', 'Sousa', '15/08/90', '589.235.712-98', 333333, 'Rua Sabrina 308', '52222-789', 'Sao Paulo', '11-1111111', 12, 'Financeiro', 8000), (9, 'Marisa', 'Fonseca', 'Nunes', '18/11/81', '777.854.999-11', 3569874, 'Rua Marisa 789', '55214-250', 'Osasco', '11-7777777', 20, 'Operario', 3500), (10, 'Neusa', 'Ramos', 'Nurci', '30/09/80', '888.456.987-23', 1111111, 'Rua Neusa 123', '77777-789', 'Valinhos', '19-77785698', 12, 'Encarregado', 5500), (1, 'Maria', 'Aparecida', 'da Silva', '15/04/78', '155.879.410-25', 352478, 'Rua da Silva 22', '13258-741', 'Sao Paulo', '11-7854287', 10, 'Adm', 1400), (2, 'Antonio', 'Jose', 'Pereira', '13/01/95', '111.555.888-77', 123487, 'Rua Jose 32', '13785-520', 'Sao Paulo', '11-897524', 12, 'Escritorio', 1500), (3, 'Jose', 'Antonio', 'Nogueira', '24/02/00', '123.858.777-85', 321456, 'Rua Jose 15', '13852-789', 'Sao Paulo', '15-859789', 10, 'Financas', 2000), (4, 'Matias', 'Antonio', 'Nascimento', '10/02/00', '723.858.777-85', 351456, 'Rua Matias 34', '13857-111', 'Campinas', '19-123456', 10, 'Desenvolvedor', 2500), (5, 'Vitor', 'Marco', 'Santos', '15/07/94', '523.958.777-85', 1121456, 'Rua Vitor 458', '11852-789', 'Tiete', '14-7959789', 20, 'Vendedor', 4500), (6, 'Marcio', 'Gaspar', 'Testo', '05/04/85', '897.258.777-85', 875987456, 'Rua Marcio 792', '23872-789', 'Bauru', '18-9785489', 12, 'Auxiliar', 1000), (7, 'Laercio', 'Pereira', 'Nogueira', '08/07/89', '123.857.012-87', 7777777, 'Rua Laercio 222', '58852-480', 'Campinas', '19-58794567', 20, 'Software', 5000), (8, 'Sabrina', 'Fogaca', 'Sousa', '15/08/90', '589.235.712-98', 333333, 'Rua Sabrina 308', '52222-789', 'Sao Paulo', '11-1111111', 12, 'Financeiro', 8000), (9, 'Marisa', 'Fonseca', 'Nunes', '18/11/81', '777.854.999-11', 3569874, 'Rua Marisa 789', '55214-250', 'Osasco', '11-7777777', 20, 'Operario', 3500), (10, 'Neusa', 'Ramos', 'Nurci', '30/09/80', '888.456.987-23', 1111111, 'Rua Neusa 123', '77777-789', 'Valinhos', '19-77785698', 12, 'Encarregado', 5500), (1, 'Maria', 'Aparecida', 'da Silva', '15/04/78', '155.879.410-25', 352478, 'Rua da Silva 22', '13258-741', 'Sao Paulo', '11-7854287', 10, 'Adm', 1400), (2, 'Antonio', 'Jose', 'Pereira', '13/01/95', '111.555.888-77', 123487, 'Rua Jose 32', '13785-520', 'Sao Paulo', '11-897524', 12, 'Escritorio', 1500), (3, 'Jose', 'Antonio', 'Nogueira', '24/02/00', '123.858.777-85', 321456, 'Rua Jose 15', '13852-789', 'Sao Paulo', '15-859789', 10, 'Financas', 2000), (4, 'Matias', 'Antonio', 'Nascimento', '10/02/00', '723.858.777-85', 351456, 'Rua Matias 34', '13857-111', 'Campinas', '19-123456', 10, 'Desenvolvedor', 2500), (5, 'Vitor', 'Marco', 'Santos', '15/07/94', '523.958.777-85', 1121456, 'Rua Vitor 458', '11852-789', 'Tiete', '14-7959789', 20, 'Vendedor', 4500), (6, 'Marcio', 'Gaspar', 'Testo', '05/04/85', '897.258.777-85', 875987456, 'Rua Marcio 792', '23872-789', 'Bauru', '18-9785489', 12, 'Auxiliar', 1000), (7, 'Laercio', 'Pereira', 'Nogueira', '08/07/89', '123.857.012-87', 7777777, 'Rua Laercio 222', '58852-480', 'Campinas', '19-58794567', 20, 'Software', 5000), (8, 'Sabrina', 'Fogaca', 'Sousa', '15/08/90', '589.235.712-98', 333333, 'Rua Sabrina 308', '52222-789', 'Sao Paulo', '11-1111111', 12, 'Financeiro', 8000), (9, 'Marisa', 'Fonseca', 'Nunes', '18/11/81', '777.854.999-11', 3569874, 'Rua Marisa 789', '55214-250', 'Osasco', '11-7777777', 20, 'Operario', 3500), (10, 'Neusa', 'Ramos', 'Nurci', '30/09/80', '888.456.987-23', 1111111, 'Rua Neusa 123', '77777-789', 'Valinhos', '19-77785698', 12, 'Encarregado', 5500), (1, 'Maria', 'Aparecida', 'da Silva', '15/04/78', '155.879.410-25', 352478, 'Rua da Silva 22', '13258-741', 'Sao Paulo', '11-7854287', 10, 'Adm', 1400), (2, 'Antonio', 'Jose', 'Pereira', '13/01/95', '111.555.888-77', 123487, 'Rua Jose 32', '13785-520', 'Sao Paulo', '11-897524', 12, 'Escritorio', 1500), (3, 'Jose', 'Antonio', 'Nogueira', '24/02/00', '123.858.777-85', 321456, 'Rua Jose 15', '13852-789', 'Sao Paulo', '15-859789', 10, 'Financas', 2000), (4, 'Matias', 'Antonio', 'Nascimento', '10/02/00', '723.858.777-85', 351456, 'Rua Matias 34', '13857-111', 'Campinas', '19-123456', 10, 'Desenvolvedor', 2500), (5, 'Vitor', 'Marco', 'Santos', '15/07/94', '523.958.777-85', 1121456, 'Rua Vitor 458', '11852-789', 'Tiete', '14-7959789', 20, 'Vendedor', 4500), (6, 'Marcio', 'Gaspar', 'Testo', '05/04/85', '897.258.777-85', 875987456, 'Rua Marcio 792', '23872-789', 'Bauru', '18-9785489', 12, 'Auxiliar', 1000), (7, 'Laercio', 'Pereira', 'Nogueira', '08/07/89', '123.857.012-87', 7777777, 'Rua Laercio 222', '58852-480', 'Campinas', '19-58794567', 20, 'Software', 5000), (8, 'Sabrina', 'Fogaca', 'Sousa', '15/08/90', '589.235.712-98', 333333, 'Rua Sabrina 308', '52222-789', 'Sao Paulo', '11-1111111', 12, 'Financeiro', 8000), (9, 'Marisa', 'Fonseca', 'Nunes', '18/11/81', '777.854.999-11', 3569874, 'Rua Marisa 789', '55214-250', 'Osasco', '11-7777777', 20, 'Operario', 3500), (10, 'Neusa', 'Ramos', 'Nurci', '30/09/80', '888.456.987-23', 1111111, 'Rua Neusa 123', '77777-789', 'Valinhos', '19-77785698', 12, 'Encarregado', 5500)]\n"
     ]
    }
   ],
   "source": [
    "cursor.execute(\"SELECT * FROM funcionarios\")\n",
    "print(cursor.fetchall())"
   ],
   "metadata": {
    "collapsed": false
   }
  },
  {
   "cell_type": "code",
   "execution_count": 45,
   "outputs": [],
   "source": [
    "listafuncionarios = [('1', 'Maria', 'Aparecida', 'da Silva', '15/04/78', '155.879.410-25', '352478', 'Rua da Silva 22', '13258-741', 'Sao Paulo', '11-7854287', '10', 'Adm', '1400'),\n",
    "                     ('2', 'Antonio', 'Jose', 'Pereira', '13/01/95', '111.555.888-77', '123487', 'Rua Jose 32', '13785-520', 'Sao Paulo', '11-897524', '12', 'Escritorio', '1500'),\n",
    "                     ('3','Jose', 'Antonio', 'Nogueira', '24/02/00', '123.858.777-85', '321456', 'Rua Jose 15', '13852-789', 'Sao Paulo', '15-859789', '10', 'Financas', '2000'),\n",
    "                     ('4','Matias', 'Antonio', 'Nascimento', '10/02/00', '723.858.777-85', '351456', 'Rua Matias 34', '13857-111', 'Campinas', '19-123456', '10', 'Desenvolvedor', '2500'),\n",
    "                     ('5','Vitor', 'Marco', 'Santos', '15/07/94', '523.958.777-85', '1121456', 'Rua Vitor 458', '11852-789', 'Tiete', '14-7959789', '20', 'Vendedor', '4500'),\n",
    "                     ('6','Marcio', 'Gaspar', 'Testo', '05/04/85', '897.258.777-85', '875987456', 'Rua Marcio 792', '23872-789', 'Bauru', '18-9785489', '12', 'Auxiliar', '1000'),\n",
    "                     ('7','Laercio', 'Pereira', 'Nogueira', '08/07/89', '123.857.012-87', '7777777', 'Rua Laercio 222', '58852-480', 'Campinas', '19-58794567', '20', 'Software', '5000'),\n",
    "                     ('8','Sabrina', 'Fogaca', 'Sousa', '15/08/90', '589.235.712-98', '333333', 'Rua Sabrina 308', '52222-789', 'Sao Paulo', '11-1111111', '12', 'Financeiro', '8000'),\n",
    "                     ('9','Marisa', 'Fonseca', 'Nunes', '18/11/81', '777.854.999-11', '3569874', 'Rua Marisa 789', '55214-250', 'Osasco', '11-7777777', '20', 'Operario', '3500'),\n",
    "                     ('10','Neusa', 'Ramos', 'Nurci', '30/09/80', '888.456.987-23', '1111111', 'Rua Neusa 123', '77777-789', 'Valinhos', '19-77785698', '12', 'Encarregado', '5500'),\n",
    "                     ]"
   ],
   "metadata": {
    "collapsed": false
   }
  },
  {
   "cell_type": "code",
   "execution_count": 46,
   "outputs": [
    {
     "name": "stdout",
     "output_type": "stream",
     "text": [
      "Dados Inseridos\n"
     ]
    }
   ],
   "source": [
    "cursor.executemany(\"\"\"INSERT INTO funcionarios VALUES(?, ?, ?, ?, ?, ?, ?, ?, ?, ?, ?, ?, ?, ?)\"\"\", listafuncionarios)\n",
    "print('Dados Inseridos')\n",
    "banco.commit()"
   ],
   "metadata": {
    "collapsed": false
   }
  },
  {
   "cell_type": "code",
   "execution_count": 47,
   "outputs": [
    {
     "name": "stdout",
     "output_type": "stream",
     "text": [
      "[(1, 'Maria', 'Aparecida', 'da Silva', 150478, 15587941025, 352478, 'Rua da Silva 22', 13258741, 'Sao Paulo', 117854287, 10, 'Adm', 1400), (2, 'Antonio', 'Jose', 'Pereira', 130195, 11155588877, 123487, 'Rua Jose 32', 13785520, 'Sao Paulo', 11897524, 12, 'Escritorio', 1500), (1, 'Maria', 'Aparecida', 'da Silva', '15/04/78', '155.879.410-25', 352478, 'Rua da Silva 22', '13258-741', 'Sao Paulo', '11-7854287', 10, 'Adm', 1400), (2, 'Antonio', 'Jose', 'Pereira', '13/01/95', '111.555.888-77', 123487, 'Rua Jose 32', '13785-520', 'Sao Paulo', '11-897524', 12, 'Escritorio', 1500), (1, 'Maria', 'Aparecida', 'da Silva', '15/04/78', '155.879.410-25', 352478, 'Rua da Silva 22', '13258-741', 'Sao Paulo', '11-7854287', 10, 'Adm', 1400), (2, 'Antonio', 'Jose', 'Pereira', '13/01/95', '111.555.888-77', 123487, 'Rua Jose 32', '13785-520', 'Sao Paulo', '11-897524', 12, 'Escritorio', 1500), (3, 'Jose', 'Antonio', 'Nogueira', '24/02/00', '123.858.777-85', 321456, 'Rua Jose 15', '13852-789', 'Sao Paulo', '15-859789', 10, 'Financas', 2000), (4, 'Matias', 'Antonio', 'Nascimento', '10/02/00', '723.858.777-85', 351456, 'Rua Matias 34', '13857-111', 'Campinas', '19-123456', 10, 'Desenvolvedor', 2500), (5, 'Vitor', 'Marco', 'Santos', '15/07/94', '523.958.777-85', 1121456, 'Rua Vitor 458', '11852-789', 'Tiete', '14-7959789', 20, 'Vendedor', 4500), (6, 'Marcio', 'Gaspar', 'Testo', '05/04/85', '897.258.777-85', 875987456, 'Rua Marcio 792', '23872-789', 'Bauru', '18-9785489', 12, 'Auxiliar', 1000), (7, 'Laercio', 'Pereira', 'Nogueira', '08/07/89', '123.857.012-87', 7777777, 'Rua Laercio 222', '58852-480', 'Campinas', '19-58794567', 20, 'Software', 5000), (8, 'Sabrina', 'Fogaca', 'Sousa', '15/08/90', '589.235.712-98', 333333, 'Rua Sabrina 308', '52222-789', 'Sao Paulo', '11-1111111', 12, 'Financeiro', 8000), (9, 'Marisa', 'Fonseca', 'Nunes', '18/11/81', '777.854.999-11', 3569874, 'Rua Marisa 789', '55214-250', 'Osasco', '11-7777777', 20, 'Operario', 3500), (10, 'Neusa', 'Ramos', 'Nurci', '30/09/80', '888.456.987-23', 1111111, 'Rua Neusa 123', '77777-789', 'Valinhos', '19-77785698', 12, 'Encarregado', 5500), (1, 'Maria', 'Aparecida', 'da Silva', '15/04/78', '155.879.410-25', 352478, 'Rua da Silva 22', '13258-741', 'Sao Paulo', '11-7854287', 10, 'Adm', 1400), (2, 'Antonio', 'Jose', 'Pereira', '13/01/95', '111.555.888-77', 123487, 'Rua Jose 32', '13785-520', 'Sao Paulo', '11-897524', 12, 'Escritorio', 1500), (3, 'Jose', 'Antonio', 'Nogueira', '24/02/00', '123.858.777-85', 321456, 'Rua Jose 15', '13852-789', 'Sao Paulo', '15-859789', 10, 'Financas', 2000), (4, 'Matias', 'Antonio', 'Nascimento', '10/02/00', '723.858.777-85', 351456, 'Rua Matias 34', '13857-111', 'Campinas', '19-123456', 10, 'Desenvolvedor', 2500), (5, 'Vitor', 'Marco', 'Santos', '15/07/94', '523.958.777-85', 1121456, 'Rua Vitor 458', '11852-789', 'Tiete', '14-7959789', 20, 'Vendedor', 4500), (6, 'Marcio', 'Gaspar', 'Testo', '05/04/85', '897.258.777-85', 875987456, 'Rua Marcio 792', '23872-789', 'Bauru', '18-9785489', 12, 'Auxiliar', 1000), (7, 'Laercio', 'Pereira', 'Nogueira', '08/07/89', '123.857.012-87', 7777777, 'Rua Laercio 222', '58852-480', 'Campinas', '19-58794567', 20, 'Software', 5000), (8, 'Sabrina', 'Fogaca', 'Sousa', '15/08/90', '589.235.712-98', 333333, 'Rua Sabrina 308', '52222-789', 'Sao Paulo', '11-1111111', 12, 'Financeiro', 8000), (9, 'Marisa', 'Fonseca', 'Nunes', '18/11/81', '777.854.999-11', 3569874, 'Rua Marisa 789', '55214-250', 'Osasco', '11-7777777', 20, 'Operario', 3500), (10, 'Neusa', 'Ramos', 'Nurci', '30/09/80', '888.456.987-23', 1111111, 'Rua Neusa 123', '77777-789', 'Valinhos', '19-77785698', 12, 'Encarregado', 5500), (1, 'Maria', 'Aparecida', 'da Silva', '15/04/78', '155.879.410-25', 352478, 'Rua da Silva 22', '13258-741', 'Sao Paulo', '11-7854287', 10, 'Adm', 1400), (2, 'Antonio', 'Jose', 'Pereira', '13/01/95', '111.555.888-77', 123487, 'Rua Jose 32', '13785-520', 'Sao Paulo', '11-897524', 12, 'Escritorio', 1500), (3, 'Jose', 'Antonio', 'Nogueira', '24/02/00', '123.858.777-85', 321456, 'Rua Jose 15', '13852-789', 'Sao Paulo', '15-859789', 10, 'Financas', 2000), (4, 'Matias', 'Antonio', 'Nascimento', '10/02/00', '723.858.777-85', 351456, 'Rua Matias 34', '13857-111', 'Campinas', '19-123456', 10, 'Desenvolvedor', 2500), (5, 'Vitor', 'Marco', 'Santos', '15/07/94', '523.958.777-85', 1121456, 'Rua Vitor 458', '11852-789', 'Tiete', '14-7959789', 20, 'Vendedor', 4500), (6, 'Marcio', 'Gaspar', 'Testo', '05/04/85', '897.258.777-85', 875987456, 'Rua Marcio 792', '23872-789', 'Bauru', '18-9785489', 12, 'Auxiliar', 1000), (7, 'Laercio', 'Pereira', 'Nogueira', '08/07/89', '123.857.012-87', 7777777, 'Rua Laercio 222', '58852-480', 'Campinas', '19-58794567', 20, 'Software', 5000), (8, 'Sabrina', 'Fogaca', 'Sousa', '15/08/90', '589.235.712-98', 333333, 'Rua Sabrina 308', '52222-789', 'Sao Paulo', '11-1111111', 12, 'Financeiro', 8000), (9, 'Marisa', 'Fonseca', 'Nunes', '18/11/81', '777.854.999-11', 3569874, 'Rua Marisa 789', '55214-250', 'Osasco', '11-7777777', 20, 'Operario', 3500), (10, 'Neusa', 'Ramos', 'Nurci', '30/09/80', '888.456.987-23', 1111111, 'Rua Neusa 123', '77777-789', 'Valinhos', '19-77785698', 12, 'Encarregado', 5500), (1, 'Maria', 'Aparecida', 'da Silva', '15/04/78', '155.879.410-25', 352478, 'Rua da Silva 22', '13258-741', 'Sao Paulo', '11-7854287', 10, 'Adm', 1400), (2, 'Antonio', 'Jose', 'Pereira', '13/01/95', '111.555.888-77', 123487, 'Rua Jose 32', '13785-520', 'Sao Paulo', '11-897524', 12, 'Escritorio', 1500), (3, 'Jose', 'Antonio', 'Nogueira', '24/02/00', '123.858.777-85', 321456, 'Rua Jose 15', '13852-789', 'Sao Paulo', '15-859789', 10, 'Financas', 2000), (4, 'Matias', 'Antonio', 'Nascimento', '10/02/00', '723.858.777-85', 351456, 'Rua Matias 34', '13857-111', 'Campinas', '19-123456', 10, 'Desenvolvedor', 2500), (5, 'Vitor', 'Marco', 'Santos', '15/07/94', '523.958.777-85', 1121456, 'Rua Vitor 458', '11852-789', 'Tiete', '14-7959789', 20, 'Vendedor', 4500), (6, 'Marcio', 'Gaspar', 'Testo', '05/04/85', '897.258.777-85', 875987456, 'Rua Marcio 792', '23872-789', 'Bauru', '18-9785489', 12, 'Auxiliar', 1000), (7, 'Laercio', 'Pereira', 'Nogueira', '08/07/89', '123.857.012-87', 7777777, 'Rua Laercio 222', '58852-480', 'Campinas', '19-58794567', 20, 'Software', 5000), (8, 'Sabrina', 'Fogaca', 'Sousa', '15/08/90', '589.235.712-98', 333333, 'Rua Sabrina 308', '52222-789', 'Sao Paulo', '11-1111111', 12, 'Financeiro', 8000), (9, 'Marisa', 'Fonseca', 'Nunes', '18/11/81', '777.854.999-11', 3569874, 'Rua Marisa 789', '55214-250', 'Osasco', '11-7777777', 20, 'Operario', 3500), (10, 'Neusa', 'Ramos', 'Nurci', '30/09/80', '888.456.987-23', 1111111, 'Rua Neusa 123', '77777-789', 'Valinhos', '19-77785698', 12, 'Encarregado', 5500), (1, 'Maria', 'Aparecida', 'da Silva', '15/04/78', '155.879.410-25', 352478, 'Rua da Silva 22', '13258-741', 'Sao Paulo', '11-7854287', 10, 'Adm', 1400), (2, 'Antonio', 'Jose', 'Pereira', '13/01/95', '111.555.888-77', 123487, 'Rua Jose 32', '13785-520', 'Sao Paulo', '11-897524', 12, 'Escritorio', 1500), (3, 'Jose', 'Antonio', 'Nogueira', '24/02/00', '123.858.777-85', 321456, 'Rua Jose 15', '13852-789', 'Sao Paulo', '15-859789', 10, 'Financas', 2000), (4, 'Matias', 'Antonio', 'Nascimento', '10/02/00', '723.858.777-85', 351456, 'Rua Matias 34', '13857-111', 'Campinas', '19-123456', 10, 'Desenvolvedor', 2500), (5, 'Vitor', 'Marco', 'Santos', '15/07/94', '523.958.777-85', 1121456, 'Rua Vitor 458', '11852-789', 'Tiete', '14-7959789', 20, 'Vendedor', 4500), (6, 'Marcio', 'Gaspar', 'Testo', '05/04/85', '897.258.777-85', 875987456, 'Rua Marcio 792', '23872-789', 'Bauru', '18-9785489', 12, 'Auxiliar', 1000), (7, 'Laercio', 'Pereira', 'Nogueira', '08/07/89', '123.857.012-87', 7777777, 'Rua Laercio 222', '58852-480', 'Campinas', '19-58794567', 20, 'Software', 5000), (8, 'Sabrina', 'Fogaca', 'Sousa', '15/08/90', '589.235.712-98', 333333, 'Rua Sabrina 308', '52222-789', 'Sao Paulo', '11-1111111', 12, 'Financeiro', 8000), (9, 'Marisa', 'Fonseca', 'Nunes', '18/11/81', '777.854.999-11', 3569874, 'Rua Marisa 789', '55214-250', 'Osasco', '11-7777777', 20, 'Operario', 3500), (10, 'Neusa', 'Ramos', 'Nurci', '30/09/80', '888.456.987-23', 1111111, 'Rua Neusa 123', '77777-789', 'Valinhos', '19-77785698', 12, 'Encarregado', 5500)]\n"
     ]
    }
   ],
   "source": [
    "cursor.execute(\"SELECT * FROM funcionarios\")\n",
    "print(cursor.fetchall())"
   ],
   "metadata": {
    "collapsed": false
   }
  },
  {
   "cell_type": "code",
   "execution_count": 48,
   "outputs": [
    {
     "ename": "OperationalError",
     "evalue": "table departamentos already exists",
     "output_type": "error",
     "traceback": [
      "\u001B[1;31m---------------------------------------------------------------------------\u001B[0m",
      "\u001B[1;31mOperationalError\u001B[0m                          Traceback (most recent call last)",
      "Cell \u001B[1;32mIn [48], line 1\u001B[0m\n\u001B[1;32m----> 1\u001B[0m \u001B[43mcursor\u001B[49m\u001B[38;5;241;43m.\u001B[39;49m\u001B[43mexecute\u001B[49m\u001B[43m(\u001B[49m\u001B[38;5;124;43m\"\u001B[39;49m\u001B[38;5;124;43mCREATE TABLE departamentos(codigo integer, nome text, localizacao text, codigoFuncionarioGerente integer)\u001B[39;49m\u001B[38;5;124;43m\"\u001B[39;49m\u001B[43m)\u001B[49m\n\u001B[0;32m      2\u001B[0m \u001B[38;5;28mprint\u001B[39m(\u001B[38;5;124m\"\u001B[39m\u001B[38;5;124mTabela Criada\u001B[39m\u001B[38;5;124m\"\u001B[39m)\n",
      "\u001B[1;31mOperationalError\u001B[0m: table departamentos already exists"
     ]
    }
   ],
   "source": [
    "cursor.execute(\"CREATE TABLE departamentos(codigo integer, nome text, localizacao text, codigoFuncionarioGerente integer)\")\n",
    "print(\"Tabela Criada\")"
   ],
   "metadata": {
    "collapsed": false
   }
  },
  {
   "cell_type": "code",
   "execution_count": 49,
   "outputs": [
    {
     "name": "stdout",
     "output_type": "stream",
     "text": [
      "Dados inseridos\n"
     ]
    }
   ],
   "source": [
    "listadepartamento = [('1', 'Area 51', 'Centro', '10'),\n",
    "                     ('2', 'Area 37', 'Filial 2', '12'),\n",
    "                     ('3', 'Area 12', 'Matriz', '20'),\n",
    "                     ('4', 'Area 28', 'Filial 3', '5'),\n",
    "                     ('5', 'Area 45', 'Filial 4', '7'),\n",
    "                     ('6', 'Area 25', 'Filial5', '19')]\n",
    "cursor.executemany(\"\"\"INSERT INTO departamentos VALUES (?, ?, ?, ?)\"\"\", listadepartamento)\n",
    "print(\"Dados inseridos\")\n",
    "banco.commit()"
   ],
   "metadata": {
    "collapsed": false
   }
  },
  {
   "cell_type": "code",
   "execution_count": 50,
   "outputs": [
    {
     "name": "stdout",
     "output_type": "stream",
     "text": [
      "[(1, 'Area 51', 'Centro', 10), (2, 'Area 37', 'Filial 2', 12), (3, 'Area 12', 'Matriz', 20), (4, 'Area 28', 'Filial 3', 5), (5, 'Area 45', 'Filial 4', 7), (6, 'Area 25', 'Filial5', 19), (1, 'Area 51', 'Centro', 10), (2, 'Area 37', 'Filial 2', 12), (3, 'Area 12', 'Matriz', 20), (4, 'Area 28', 'Filial 3', 5), (5, 'Area 45', 'Filial 4', 7), (6, 'Area 25', 'Filial5', 19), (1, 'Area 51', 'Centro', 10), (2, 'Area 37', 'Filial 2', 12), (3, 'Area 12', 'Matriz', 20), (4, 'Area 28', 'Filial 3', 5), (5, 'Area 45', 'Filial 4', 7), (6, 'Area 25', 'Filial5', 19), (1, 'Area 51', 'Centro', 10), (2, 'Area 37', 'Filial 2', 12), (3, 'Area 12', 'Matriz', 20), (4, 'Area 28', 'Filial 3', 5), (5, 'Area 45', 'Filial 4', 7), (6, 'Area 25', 'Filial5', 19)]\n"
     ]
    }
   ],
   "source": [
    "cursor.execute(\"SELECT * FROM departamentos\")\n",
    "print(cursor.fetchall())"
   ],
   "metadata": {
    "collapsed": false
   }
  },
  {
   "cell_type": "code",
   "execution_count": 51,
   "outputs": [
    {
     "name": "stdout",
     "output_type": "stream",
     "text": [
      "[('Matias', 'Nascimento'), ('Matias', 'Nascimento'), ('Matias', 'Nascimento'), ('Matias', 'Nascimento'), ('Matias', 'Nascimento'), ('Jose', 'Nogueira'), ('Laercio', 'Nogueira'), ('Jose', 'Nogueira'), ('Laercio', 'Nogueira'), ('Jose', 'Nogueira'), ('Laercio', 'Nogueira'), ('Jose', 'Nogueira'), ('Laercio', 'Nogueira'), ('Jose', 'Nogueira'), ('Laercio', 'Nogueira'), ('Marisa', 'Nunes'), ('Marisa', 'Nunes'), ('Marisa', 'Nunes'), ('Marisa', 'Nunes'), ('Marisa', 'Nunes'), ('Neusa', 'Nurci'), ('Neusa', 'Nurci'), ('Neusa', 'Nurci'), ('Neusa', 'Nurci'), ('Neusa', 'Nurci'), ('Antonio', 'Pereira'), ('Antonio', 'Pereira'), ('Antonio', 'Pereira'), ('Antonio', 'Pereira'), ('Antonio', 'Pereira'), ('Antonio', 'Pereira'), ('Antonio', 'Pereira'), ('Vitor', 'Santos'), ('Vitor', 'Santos'), ('Vitor', 'Santos'), ('Vitor', 'Santos'), ('Vitor', 'Santos'), ('Sabrina', 'Sousa'), ('Sabrina', 'Sousa'), ('Sabrina', 'Sousa'), ('Sabrina', 'Sousa'), ('Sabrina', 'Sousa'), ('Marcio', 'Testo'), ('Marcio', 'Testo'), ('Marcio', 'Testo'), ('Marcio', 'Testo'), ('Marcio', 'Testo'), ('Maria', 'da Silva'), ('Maria', 'da Silva'), ('Maria', 'da Silva'), ('Maria', 'da Silva'), ('Maria', 'da Silva'), ('Maria', 'da Silva'), ('Maria', 'da Silva')]\n"
     ]
    }
   ],
   "source": [
    "cursor.execute(\"SELECT primeiroNome, ultimoNome FROM funcionarios ORDER BY ultimoNome\")\n",
    "print(cursor.fetchall())"
   ],
   "metadata": {
    "collapsed": false
   }
  },
  {
   "cell_type": "code",
   "execution_count": 52,
   "outputs": [
    {
     "name": "stdout",
     "output_type": "stream",
     "text": [
      "[(6, 'Marcio', 'Gaspar', 'Testo', '05/04/85', '897.258.777-85', 875987456, 'Rua Marcio 792', '23872-789', 'Bauru', '18-9785489', 12, 'Auxiliar', 1000), (6, 'Marcio', 'Gaspar', 'Testo', '05/04/85', '897.258.777-85', 875987456, 'Rua Marcio 792', '23872-789', 'Bauru', '18-9785489', 12, 'Auxiliar', 1000), (6, 'Marcio', 'Gaspar', 'Testo', '05/04/85', '897.258.777-85', 875987456, 'Rua Marcio 792', '23872-789', 'Bauru', '18-9785489', 12, 'Auxiliar', 1000), (6, 'Marcio', 'Gaspar', 'Testo', '05/04/85', '897.258.777-85', 875987456, 'Rua Marcio 792', '23872-789', 'Bauru', '18-9785489', 12, 'Auxiliar', 1000), (6, 'Marcio', 'Gaspar', 'Testo', '05/04/85', '897.258.777-85', 875987456, 'Rua Marcio 792', '23872-789', 'Bauru', '18-9785489', 12, 'Auxiliar', 1000), (4, 'Matias', 'Antonio', 'Nascimento', '10/02/00', '723.858.777-85', 351456, 'Rua Matias 34', '13857-111', 'Campinas', '19-123456', 10, 'Desenvolvedor', 2500), (7, 'Laercio', 'Pereira', 'Nogueira', '08/07/89', '123.857.012-87', 7777777, 'Rua Laercio 222', '58852-480', 'Campinas', '19-58794567', 20, 'Software', 5000), (4, 'Matias', 'Antonio', 'Nascimento', '10/02/00', '723.858.777-85', 351456, 'Rua Matias 34', '13857-111', 'Campinas', '19-123456', 10, 'Desenvolvedor', 2500), (7, 'Laercio', 'Pereira', 'Nogueira', '08/07/89', '123.857.012-87', 7777777, 'Rua Laercio 222', '58852-480', 'Campinas', '19-58794567', 20, 'Software', 5000), (4, 'Matias', 'Antonio', 'Nascimento', '10/02/00', '723.858.777-85', 351456, 'Rua Matias 34', '13857-111', 'Campinas', '19-123456', 10, 'Desenvolvedor', 2500), (7, 'Laercio', 'Pereira', 'Nogueira', '08/07/89', '123.857.012-87', 7777777, 'Rua Laercio 222', '58852-480', 'Campinas', '19-58794567', 20, 'Software', 5000), (4, 'Matias', 'Antonio', 'Nascimento', '10/02/00', '723.858.777-85', 351456, 'Rua Matias 34', '13857-111', 'Campinas', '19-123456', 10, 'Desenvolvedor', 2500), (7, 'Laercio', 'Pereira', 'Nogueira', '08/07/89', '123.857.012-87', 7777777, 'Rua Laercio 222', '58852-480', 'Campinas', '19-58794567', 20, 'Software', 5000), (4, 'Matias', 'Antonio', 'Nascimento', '10/02/00', '723.858.777-85', 351456, 'Rua Matias 34', '13857-111', 'Campinas', '19-123456', 10, 'Desenvolvedor', 2500), (7, 'Laercio', 'Pereira', 'Nogueira', '08/07/89', '123.857.012-87', 7777777, 'Rua Laercio 222', '58852-480', 'Campinas', '19-58794567', 20, 'Software', 5000), (9, 'Marisa', 'Fonseca', 'Nunes', '18/11/81', '777.854.999-11', 3569874, 'Rua Marisa 789', '55214-250', 'Osasco', '11-7777777', 20, 'Operario', 3500), (9, 'Marisa', 'Fonseca', 'Nunes', '18/11/81', '777.854.999-11', 3569874, 'Rua Marisa 789', '55214-250', 'Osasco', '11-7777777', 20, 'Operario', 3500), (9, 'Marisa', 'Fonseca', 'Nunes', '18/11/81', '777.854.999-11', 3569874, 'Rua Marisa 789', '55214-250', 'Osasco', '11-7777777', 20, 'Operario', 3500), (9, 'Marisa', 'Fonseca', 'Nunes', '18/11/81', '777.854.999-11', 3569874, 'Rua Marisa 789', '55214-250', 'Osasco', '11-7777777', 20, 'Operario', 3500), (9, 'Marisa', 'Fonseca', 'Nunes', '18/11/81', '777.854.999-11', 3569874, 'Rua Marisa 789', '55214-250', 'Osasco', '11-7777777', 20, 'Operario', 3500), (1, 'Maria', 'Aparecida', 'da Silva', 150478, 15587941025, 352478, 'Rua da Silva 22', 13258741, 'Sao Paulo', 117854287, 10, 'Adm', 1400), (2, 'Antonio', 'Jose', 'Pereira', 130195, 11155588877, 123487, 'Rua Jose 32', 13785520, 'Sao Paulo', 11897524, 12, 'Escritorio', 1500), (1, 'Maria', 'Aparecida', 'da Silva', '15/04/78', '155.879.410-25', 352478, 'Rua da Silva 22', '13258-741', 'Sao Paulo', '11-7854287', 10, 'Adm', 1400), (2, 'Antonio', 'Jose', 'Pereira', '13/01/95', '111.555.888-77', 123487, 'Rua Jose 32', '13785-520', 'Sao Paulo', '11-897524', 12, 'Escritorio', 1500), (1, 'Maria', 'Aparecida', 'da Silva', '15/04/78', '155.879.410-25', 352478, 'Rua da Silva 22', '13258-741', 'Sao Paulo', '11-7854287', 10, 'Adm', 1400), (2, 'Antonio', 'Jose', 'Pereira', '13/01/95', '111.555.888-77', 123487, 'Rua Jose 32', '13785-520', 'Sao Paulo', '11-897524', 12, 'Escritorio', 1500), (3, 'Jose', 'Antonio', 'Nogueira', '24/02/00', '123.858.777-85', 321456, 'Rua Jose 15', '13852-789', 'Sao Paulo', '15-859789', 10, 'Financas', 2000), (8, 'Sabrina', 'Fogaca', 'Sousa', '15/08/90', '589.235.712-98', 333333, 'Rua Sabrina 308', '52222-789', 'Sao Paulo', '11-1111111', 12, 'Financeiro', 8000), (1, 'Maria', 'Aparecida', 'da Silva', '15/04/78', '155.879.410-25', 352478, 'Rua da Silva 22', '13258-741', 'Sao Paulo', '11-7854287', 10, 'Adm', 1400), (2, 'Antonio', 'Jose', 'Pereira', '13/01/95', '111.555.888-77', 123487, 'Rua Jose 32', '13785-520', 'Sao Paulo', '11-897524', 12, 'Escritorio', 1500), (3, 'Jose', 'Antonio', 'Nogueira', '24/02/00', '123.858.777-85', 321456, 'Rua Jose 15', '13852-789', 'Sao Paulo', '15-859789', 10, 'Financas', 2000), (8, 'Sabrina', 'Fogaca', 'Sousa', '15/08/90', '589.235.712-98', 333333, 'Rua Sabrina 308', '52222-789', 'Sao Paulo', '11-1111111', 12, 'Financeiro', 8000), (1, 'Maria', 'Aparecida', 'da Silva', '15/04/78', '155.879.410-25', 352478, 'Rua da Silva 22', '13258-741', 'Sao Paulo', '11-7854287', 10, 'Adm', 1400), (2, 'Antonio', 'Jose', 'Pereira', '13/01/95', '111.555.888-77', 123487, 'Rua Jose 32', '13785-520', 'Sao Paulo', '11-897524', 12, 'Escritorio', 1500), (3, 'Jose', 'Antonio', 'Nogueira', '24/02/00', '123.858.777-85', 321456, 'Rua Jose 15', '13852-789', 'Sao Paulo', '15-859789', 10, 'Financas', 2000), (8, 'Sabrina', 'Fogaca', 'Sousa', '15/08/90', '589.235.712-98', 333333, 'Rua Sabrina 308', '52222-789', 'Sao Paulo', '11-1111111', 12, 'Financeiro', 8000), (1, 'Maria', 'Aparecida', 'da Silva', '15/04/78', '155.879.410-25', 352478, 'Rua da Silva 22', '13258-741', 'Sao Paulo', '11-7854287', 10, 'Adm', 1400), (2, 'Antonio', 'Jose', 'Pereira', '13/01/95', '111.555.888-77', 123487, 'Rua Jose 32', '13785-520', 'Sao Paulo', '11-897524', 12, 'Escritorio', 1500), (3, 'Jose', 'Antonio', 'Nogueira', '24/02/00', '123.858.777-85', 321456, 'Rua Jose 15', '13852-789', 'Sao Paulo', '15-859789', 10, 'Financas', 2000), (8, 'Sabrina', 'Fogaca', 'Sousa', '15/08/90', '589.235.712-98', 333333, 'Rua Sabrina 308', '52222-789', 'Sao Paulo', '11-1111111', 12, 'Financeiro', 8000), (1, 'Maria', 'Aparecida', 'da Silva', '15/04/78', '155.879.410-25', 352478, 'Rua da Silva 22', '13258-741', 'Sao Paulo', '11-7854287', 10, 'Adm', 1400), (2, 'Antonio', 'Jose', 'Pereira', '13/01/95', '111.555.888-77', 123487, 'Rua Jose 32', '13785-520', 'Sao Paulo', '11-897524', 12, 'Escritorio', 1500), (3, 'Jose', 'Antonio', 'Nogueira', '24/02/00', '123.858.777-85', 321456, 'Rua Jose 15', '13852-789', 'Sao Paulo', '15-859789', 10, 'Financas', 2000), (8, 'Sabrina', 'Fogaca', 'Sousa', '15/08/90', '589.235.712-98', 333333, 'Rua Sabrina 308', '52222-789', 'Sao Paulo', '11-1111111', 12, 'Financeiro', 8000), (5, 'Vitor', 'Marco', 'Santos', '15/07/94', '523.958.777-85', 1121456, 'Rua Vitor 458', '11852-789', 'Tiete', '14-7959789', 20, 'Vendedor', 4500), (5, 'Vitor', 'Marco', 'Santos', '15/07/94', '523.958.777-85', 1121456, 'Rua Vitor 458', '11852-789', 'Tiete', '14-7959789', 20, 'Vendedor', 4500), (5, 'Vitor', 'Marco', 'Santos', '15/07/94', '523.958.777-85', 1121456, 'Rua Vitor 458', '11852-789', 'Tiete', '14-7959789', 20, 'Vendedor', 4500), (5, 'Vitor', 'Marco', 'Santos', '15/07/94', '523.958.777-85', 1121456, 'Rua Vitor 458', '11852-789', 'Tiete', '14-7959789', 20, 'Vendedor', 4500), (5, 'Vitor', 'Marco', 'Santos', '15/07/94', '523.958.777-85', 1121456, 'Rua Vitor 458', '11852-789', 'Tiete', '14-7959789', 20, 'Vendedor', 4500), (10, 'Neusa', 'Ramos', 'Nurci', '30/09/80', '888.456.987-23', 1111111, 'Rua Neusa 123', '77777-789', 'Valinhos', '19-77785698', 12, 'Encarregado', 5500), (10, 'Neusa', 'Ramos', 'Nurci', '30/09/80', '888.456.987-23', 1111111, 'Rua Neusa 123', '77777-789', 'Valinhos', '19-77785698', 12, 'Encarregado', 5500), (10, 'Neusa', 'Ramos', 'Nurci', '30/09/80', '888.456.987-23', 1111111, 'Rua Neusa 123', '77777-789', 'Valinhos', '19-77785698', 12, 'Encarregado', 5500), (10, 'Neusa', 'Ramos', 'Nurci', '30/09/80', '888.456.987-23', 1111111, 'Rua Neusa 123', '77777-789', 'Valinhos', '19-77785698', 12, 'Encarregado', 5500), (10, 'Neusa', 'Ramos', 'Nurci', '30/09/80', '888.456.987-23', 1111111, 'Rua Neusa 123', '77777-789', 'Valinhos', '19-77785698', 12, 'Encarregado', 5500)]\n"
     ]
    }
   ],
   "source": [
    "cursor.execute(\"SELECT * FROM funcionarios ORDER BY cidade\")\n",
    "print(cursor.fetchall())"
   ],
   "metadata": {
    "collapsed": false
   }
  },
  {
   "cell_type": "code",
   "execution_count": 53,
   "outputs": [
    {
     "name": "stdout",
     "output_type": "stream",
     "text": [
      "[(2, 'Antonio', 'Jose', 'Pereira', 130195, 11155588877, 123487, 'Rua Jose 32', 13785520, 'Sao Paulo', 11897524, 12, 'Escritorio', 1500), (2, 'Antonio', 'Jose', 'Pereira', '13/01/95', '111.555.888-77', 123487, 'Rua Jose 32', '13785-520', 'Sao Paulo', '11-897524', 12, 'Escritorio', 1500), (2, 'Antonio', 'Jose', 'Pereira', '13/01/95', '111.555.888-77', 123487, 'Rua Jose 32', '13785-520', 'Sao Paulo', '11-897524', 12, 'Escritorio', 1500), (2, 'Antonio', 'Jose', 'Pereira', '13/01/95', '111.555.888-77', 123487, 'Rua Jose 32', '13785-520', 'Sao Paulo', '11-897524', 12, 'Escritorio', 1500), (2, 'Antonio', 'Jose', 'Pereira', '13/01/95', '111.555.888-77', 123487, 'Rua Jose 32', '13785-520', 'Sao Paulo', '11-897524', 12, 'Escritorio', 1500), (2, 'Antonio', 'Jose', 'Pereira', '13/01/95', '111.555.888-77', 123487, 'Rua Jose 32', '13785-520', 'Sao Paulo', '11-897524', 12, 'Escritorio', 1500), (2, 'Antonio', 'Jose', 'Pereira', '13/01/95', '111.555.888-77', 123487, 'Rua Jose 32', '13785-520', 'Sao Paulo', '11-897524', 12, 'Escritorio', 1500), (3, 'Jose', 'Antonio', 'Nogueira', '24/02/00', '123.858.777-85', 321456, 'Rua Jose 15', '13852-789', 'Sao Paulo', '15-859789', 10, 'Financas', 2000), (3, 'Jose', 'Antonio', 'Nogueira', '24/02/00', '123.858.777-85', 321456, 'Rua Jose 15', '13852-789', 'Sao Paulo', '15-859789', 10, 'Financas', 2000), (3, 'Jose', 'Antonio', 'Nogueira', '24/02/00', '123.858.777-85', 321456, 'Rua Jose 15', '13852-789', 'Sao Paulo', '15-859789', 10, 'Financas', 2000), (3, 'Jose', 'Antonio', 'Nogueira', '24/02/00', '123.858.777-85', 321456, 'Rua Jose 15', '13852-789', 'Sao Paulo', '15-859789', 10, 'Financas', 2000), (3, 'Jose', 'Antonio', 'Nogueira', '24/02/00', '123.858.777-85', 321456, 'Rua Jose 15', '13852-789', 'Sao Paulo', '15-859789', 10, 'Financas', 2000), (7, 'Laercio', 'Pereira', 'Nogueira', '08/07/89', '123.857.012-87', 7777777, 'Rua Laercio 222', '58852-480', 'Campinas', '19-58794567', 20, 'Software', 5000), (7, 'Laercio', 'Pereira', 'Nogueira', '08/07/89', '123.857.012-87', 7777777, 'Rua Laercio 222', '58852-480', 'Campinas', '19-58794567', 20, 'Software', 5000), (7, 'Laercio', 'Pereira', 'Nogueira', '08/07/89', '123.857.012-87', 7777777, 'Rua Laercio 222', '58852-480', 'Campinas', '19-58794567', 20, 'Software', 5000), (7, 'Laercio', 'Pereira', 'Nogueira', '08/07/89', '123.857.012-87', 7777777, 'Rua Laercio 222', '58852-480', 'Campinas', '19-58794567', 20, 'Software', 5000), (7, 'Laercio', 'Pereira', 'Nogueira', '08/07/89', '123.857.012-87', 7777777, 'Rua Laercio 222', '58852-480', 'Campinas', '19-58794567', 20, 'Software', 5000), (1, 'Maria', 'Aparecida', 'da Silva', 150478, 15587941025, 352478, 'Rua da Silva 22', 13258741, 'Sao Paulo', 117854287, 10, 'Adm', 1400), (1, 'Maria', 'Aparecida', 'da Silva', '15/04/78', '155.879.410-25', 352478, 'Rua da Silva 22', '13258-741', 'Sao Paulo', '11-7854287', 10, 'Adm', 1400), (1, 'Maria', 'Aparecida', 'da Silva', '15/04/78', '155.879.410-25', 352478, 'Rua da Silva 22', '13258-741', 'Sao Paulo', '11-7854287', 10, 'Adm', 1400), (1, 'Maria', 'Aparecida', 'da Silva', '15/04/78', '155.879.410-25', 352478, 'Rua da Silva 22', '13258-741', 'Sao Paulo', '11-7854287', 10, 'Adm', 1400), (1, 'Maria', 'Aparecida', 'da Silva', '15/04/78', '155.879.410-25', 352478, 'Rua da Silva 22', '13258-741', 'Sao Paulo', '11-7854287', 10, 'Adm', 1400), (1, 'Maria', 'Aparecida', 'da Silva', '15/04/78', '155.879.410-25', 352478, 'Rua da Silva 22', '13258-741', 'Sao Paulo', '11-7854287', 10, 'Adm', 1400), (1, 'Maria', 'Aparecida', 'da Silva', '15/04/78', '155.879.410-25', 352478, 'Rua da Silva 22', '13258-741', 'Sao Paulo', '11-7854287', 10, 'Adm', 1400), (9, 'Marisa', 'Fonseca', 'Nunes', '18/11/81', '777.854.999-11', 3569874, 'Rua Marisa 789', '55214-250', 'Osasco', '11-7777777', 20, 'Operario', 3500), (9, 'Marisa', 'Fonseca', 'Nunes', '18/11/81', '777.854.999-11', 3569874, 'Rua Marisa 789', '55214-250', 'Osasco', '11-7777777', 20, 'Operario', 3500), (9, 'Marisa', 'Fonseca', 'Nunes', '18/11/81', '777.854.999-11', 3569874, 'Rua Marisa 789', '55214-250', 'Osasco', '11-7777777', 20, 'Operario', 3500), (9, 'Marisa', 'Fonseca', 'Nunes', '18/11/81', '777.854.999-11', 3569874, 'Rua Marisa 789', '55214-250', 'Osasco', '11-7777777', 20, 'Operario', 3500), (9, 'Marisa', 'Fonseca', 'Nunes', '18/11/81', '777.854.999-11', 3569874, 'Rua Marisa 789', '55214-250', 'Osasco', '11-7777777', 20, 'Operario', 3500), (4, 'Matias', 'Antonio', 'Nascimento', '10/02/00', '723.858.777-85', 351456, 'Rua Matias 34', '13857-111', 'Campinas', '19-123456', 10, 'Desenvolvedor', 2500), (4, 'Matias', 'Antonio', 'Nascimento', '10/02/00', '723.858.777-85', 351456, 'Rua Matias 34', '13857-111', 'Campinas', '19-123456', 10, 'Desenvolvedor', 2500), (4, 'Matias', 'Antonio', 'Nascimento', '10/02/00', '723.858.777-85', 351456, 'Rua Matias 34', '13857-111', 'Campinas', '19-123456', 10, 'Desenvolvedor', 2500), (4, 'Matias', 'Antonio', 'Nascimento', '10/02/00', '723.858.777-85', 351456, 'Rua Matias 34', '13857-111', 'Campinas', '19-123456', 10, 'Desenvolvedor', 2500), (4, 'Matias', 'Antonio', 'Nascimento', '10/02/00', '723.858.777-85', 351456, 'Rua Matias 34', '13857-111', 'Campinas', '19-123456', 10, 'Desenvolvedor', 2500), (10, 'Neusa', 'Ramos', 'Nurci', '30/09/80', '888.456.987-23', 1111111, 'Rua Neusa 123', '77777-789', 'Valinhos', '19-77785698', 12, 'Encarregado', 5500), (10, 'Neusa', 'Ramos', 'Nurci', '30/09/80', '888.456.987-23', 1111111, 'Rua Neusa 123', '77777-789', 'Valinhos', '19-77785698', 12, 'Encarregado', 5500), (10, 'Neusa', 'Ramos', 'Nurci', '30/09/80', '888.456.987-23', 1111111, 'Rua Neusa 123', '77777-789', 'Valinhos', '19-77785698', 12, 'Encarregado', 5500), (10, 'Neusa', 'Ramos', 'Nurci', '30/09/80', '888.456.987-23', 1111111, 'Rua Neusa 123', '77777-789', 'Valinhos', '19-77785698', 12, 'Encarregado', 5500), (10, 'Neusa', 'Ramos', 'Nurci', '30/09/80', '888.456.987-23', 1111111, 'Rua Neusa 123', '77777-789', 'Valinhos', '19-77785698', 12, 'Encarregado', 5500), (8, 'Sabrina', 'Fogaca', 'Sousa', '15/08/90', '589.235.712-98', 333333, 'Rua Sabrina 308', '52222-789', 'Sao Paulo', '11-1111111', 12, 'Financeiro', 8000), (8, 'Sabrina', 'Fogaca', 'Sousa', '15/08/90', '589.235.712-98', 333333, 'Rua Sabrina 308', '52222-789', 'Sao Paulo', '11-1111111', 12, 'Financeiro', 8000), (8, 'Sabrina', 'Fogaca', 'Sousa', '15/08/90', '589.235.712-98', 333333, 'Rua Sabrina 308', '52222-789', 'Sao Paulo', '11-1111111', 12, 'Financeiro', 8000), (8, 'Sabrina', 'Fogaca', 'Sousa', '15/08/90', '589.235.712-98', 333333, 'Rua Sabrina 308', '52222-789', 'Sao Paulo', '11-1111111', 12, 'Financeiro', 8000), (8, 'Sabrina', 'Fogaca', 'Sousa', '15/08/90', '589.235.712-98', 333333, 'Rua Sabrina 308', '52222-789', 'Sao Paulo', '11-1111111', 12, 'Financeiro', 8000), (5, 'Vitor', 'Marco', 'Santos', '15/07/94', '523.958.777-85', 1121456, 'Rua Vitor 458', '11852-789', 'Tiete', '14-7959789', 20, 'Vendedor', 4500), (5, 'Vitor', 'Marco', 'Santos', '15/07/94', '523.958.777-85', 1121456, 'Rua Vitor 458', '11852-789', 'Tiete', '14-7959789', 20, 'Vendedor', 4500), (5, 'Vitor', 'Marco', 'Santos', '15/07/94', '523.958.777-85', 1121456, 'Rua Vitor 458', '11852-789', 'Tiete', '14-7959789', 20, 'Vendedor', 4500), (5, 'Vitor', 'Marco', 'Santos', '15/07/94', '523.958.777-85', 1121456, 'Rua Vitor 458', '11852-789', 'Tiete', '14-7959789', 20, 'Vendedor', 4500), (5, 'Vitor', 'Marco', 'Santos', '15/07/94', '523.958.777-85', 1121456, 'Rua Vitor 458', '11852-789', 'Tiete', '14-7959789', 20, 'Vendedor', 4500)]\n"
     ]
    }
   ],
   "source": [
    "cursor.execute(\"SELECT * FROM funcionarios WHERE  salario > 1000 ORDER BY primeiroNome, segundoNome, ultimoNome\")\n",
    "print(cursor.fetchall())"
   ],
   "metadata": {
    "collapsed": false
   }
  },
  {
   "cell_type": "code",
   "execution_count": 54,
   "outputs": [
    {
     "name": "stdout",
     "output_type": "stream",
     "text": [
      "[('30/09/80', 'Neusa'), ('30/09/80', 'Neusa'), ('30/09/80', 'Neusa'), ('30/09/80', 'Neusa'), ('30/09/80', 'Neusa'), ('24/02/00', 'Jose'), ('24/02/00', 'Jose'), ('24/02/00', 'Jose'), ('24/02/00', 'Jose'), ('24/02/00', 'Jose'), ('18/11/81', 'Marisa'), ('18/11/81', 'Marisa'), ('18/11/81', 'Marisa'), ('18/11/81', 'Marisa'), ('18/11/81', 'Marisa'), ('15/08/90', 'Sabrina'), ('15/08/90', 'Sabrina'), ('15/08/90', 'Sabrina'), ('15/08/90', 'Sabrina'), ('15/08/90', 'Sabrina'), ('15/07/94', 'Vitor'), ('15/07/94', 'Vitor'), ('15/07/94', 'Vitor'), ('15/07/94', 'Vitor'), ('15/07/94', 'Vitor'), ('15/04/78', 'Maria'), ('15/04/78', 'Maria'), ('15/04/78', 'Maria'), ('15/04/78', 'Maria'), ('15/04/78', 'Maria'), ('15/04/78', 'Maria'), ('13/01/95', 'Antonio'), ('13/01/95', 'Antonio'), ('13/01/95', 'Antonio'), ('13/01/95', 'Antonio'), ('13/01/95', 'Antonio'), ('13/01/95', 'Antonio'), ('10/02/00', 'Matias'), ('10/02/00', 'Matias'), ('10/02/00', 'Matias'), ('10/02/00', 'Matias'), ('10/02/00', 'Matias'), ('08/07/89', 'Laercio'), ('08/07/89', 'Laercio'), ('08/07/89', 'Laercio'), ('08/07/89', 'Laercio'), ('08/07/89', 'Laercio'), ('05/04/85', 'Marcio'), ('05/04/85', 'Marcio'), ('05/04/85', 'Marcio'), ('05/04/85', 'Marcio'), ('05/04/85', 'Marcio'), (150478, 'Maria'), (130195, 'Antonio')]\n"
     ]
    }
   ],
   "source": [
    "cursor.execute(\"SELECT dataNasci, primeiroNome FROM funcionarios ORDER BY dataNasci DESC, primeiroNome\")\n",
    "print(cursor.fetchall())"
   ],
   "metadata": {
    "collapsed": false
   }
  },
  {
   "cell_type": "code",
   "execution_count": 55,
   "outputs": [
    {
     "name": "stdout",
     "output_type": "stream",
     "text": [
      "[(180300,)]\n"
     ]
    }
   ],
   "source": [
    "cursor.execute(\"SELECT SUM(salario) FROM funcionarios\")\n",
    "print(cursor.fetchall())"
   ],
   "metadata": {
    "collapsed": false
   }
  },
  {
   "cell_type": "code",
   "execution_count": null,
   "outputs": [],
   "source": [
    "cursor.execute(\"SELECT funcionarios.primeiroNome, departamentos.nome, funcionarios.funcao FROM funcionarios JOIN departamentos ON funcionarios.codigoDepartamento = departamentos.codigo ORDER BY funcionarios.primeiroNome\")\n",
    "print(cursor.fetchall())"
   ],
   "metadata": {
    "collapsed": false,
    "pycharm": {
     "is_executing": true
    }
   }
  },
  {
   "cell_type": "code",
   "execution_count": 57,
   "outputs": [
    {
     "name": "stdout",
     "output_type": "stream",
     "text": [
      "[(54,)]\n"
     ]
    }
   ],
   "source": [
    "cursor.execute(\"SELECT COUNT(*) FROM funcionarios\")\n",
    "print(cursor.fetchall())"
   ],
   "metadata": {
    "collapsed": false
   }
  },
  {
   "cell_type": "code",
   "execution_count": null,
   "outputs": [],
   "source": [
    "cursor.execute(\"SELECT departamentos.nome, funcionarios.primeiroNome FROM departamentos JOIN funcionarios ON departamentos.codigo = funcionarios.codigoDepartamento ORDER BY departamentos.nome, funcionarios.primeiroNome\")\n",
    "print(cursor.fetchall())"
   ],
   "metadata": {
    "collapsed": false,
    "pycharm": {
     "is_executing": true
    }
   }
  }
 ],
 "metadata": {
  "kernelspec": {
   "display_name": "Python 3",
   "language": "python",
   "name": "python3"
  },
  "language_info": {
   "codemirror_mode": {
    "name": "ipython",
    "version": 2
   },
   "file_extension": ".py",
   "mimetype": "text/x-python",
   "name": "python",
   "nbconvert_exporter": "python",
   "pygments_lexer": "ipython2",
   "version": "2.7.6"
  }
 },
 "nbformat": 4,
 "nbformat_minor": 0
}
