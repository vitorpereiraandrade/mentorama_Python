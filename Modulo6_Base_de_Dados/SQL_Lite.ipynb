{
 "cells": [
  {
   "cell_type": "markdown",
   "source": [
    "# Prática  - Banco de Dados com SQLite"
   ],
   "metadata": {
    "collapsed": false
   }
  },
  {
   "cell_type": "code",
   "execution_count": 2,
   "outputs": [],
   "source": [
    "import sqlite3\n",
    "banco = sqlite3.connect('empresa.db')"
   ],
   "metadata": {
    "collapsed": false
   }
  },
  {
   "cell_type": "code",
   "execution_count": null,
   "outputs": [],
   "source": [
    "# Criando um cursor para operar comandos SQL\n",
    "cursor = banco.cursor()"
   ],
   "metadata": {
    "collapsed": false
   }
  },
  {
   "cell_type": "code",
   "execution_count": 5,
   "outputs": [],
   "source": [
    "# Criando uma tabela 'estudantes' com os campos nomeEstudante, idade, email\n",
    "cursor.execute(\"CREATE TABLE estudantes(idEstudante integer, nomeEstudante text, idade integer, email text, idDepartamento integer)\")\n",
    "# Inserindo dados na tabela\n",
    "cursor.execute(\"INSERT INTO estudantes VALUES(1, 'Maria', 40, 'mariadosanjos@mentorama.com',2)\")\n",
    "banco.commit()"
   ],
   "metadata": {
    "collapsed": false
   }
  },
  {
   "cell_type": "code",
   "execution_count": 6,
   "outputs": [
    {
     "name": "stdout",
     "output_type": "stream",
     "text": [
      "[(1, 'Maria', 40, 'mariadosanjos@mentorama.com', 2)]\n"
     ]
    }
   ],
   "source": [
    "# Consulta dados da tabela 'estudantes'\n",
    "cursor.execute(\"SELECT * FROM estudantes\")\n",
    "print(cursor.fetchall())"
   ],
   "metadata": {
    "collapsed": false
   }
  },
  {
   "cell_type": "code",
   "execution_count": null,
   "outputs": [],
   "source": [],
   "metadata": {
    "collapsed": false
   }
  }
 ],
 "metadata": {
  "kernelspec": {
   "display_name": "Python 3",
   "language": "python",
   "name": "python3"
  },
  "language_info": {
   "codemirror_mode": {
    "name": "ipython",
    "version": 2
   },
   "file_extension": ".py",
   "mimetype": "text/x-python",
   "name": "python",
   "nbconvert_exporter": "python",
   "pygments_lexer": "ipython2",
   "version": "2.7.6"
  }
 },
 "nbformat": 4,
 "nbformat_minor": 0
}
