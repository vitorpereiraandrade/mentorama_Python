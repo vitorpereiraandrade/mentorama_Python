{
 "cells": [
  {
   "cell_type": "markdown",
   "source": [
    "# Prática  - Banco de Dados com SQLite"
   ],
   "metadata": {
    "collapsed": false
   }
  },
  {
   "cell_type": "code",
   "execution_count": 1,
   "outputs": [],
   "source": [
    "import sqlite3\n",
    "banco = sqlite3.connect('empresa.db')"
   ],
   "metadata": {
    "collapsed": false
   }
  },
  {
   "cell_type": "code",
   "execution_count": 2,
   "outputs": [],
   "source": [
    "# Criando um cursor para operar comandos SQL\n",
    "cursor = banco.cursor()"
   ],
   "metadata": {
    "collapsed": false
   }
  },
  {
   "cell_type": "code",
   "execution_count": null,
   "outputs": [],
   "source": [
    "# Criando uma tabela 'estudantes' com os campos nomeEstudante, idade, email\n",
    "cursor.execute(\"CREATE TABLE estudantes(idEstudante integer, nomeEstudante text, idade integer, email text, idDepartamento integer)\")\n",
    "# Inserindo dados na tabela\n",
    "cursor.execute(\"INSERT INTO estudantes VALUES(1, 'Maria', 40, 'mariadosanjos@mentorama.com',2)\")\n",
    "banco.commit()"
   ],
   "metadata": {
    "collapsed": false,
    "pycharm": {
     "is_executing": true
    }
   }
  },
  {
   "cell_type": "code",
   "execution_count": 4,
   "outputs": [
    {
     "name": "stdout",
     "output_type": "stream",
     "text": [
      "[(1, 'Maria', 40, 'mariadosanjos@mentorama.com', 2)]\n"
     ]
    }
   ],
   "source": [
    "# Consulta dados da tabela 'estudantes'\n",
    "cursor.execute(\"SELECT * FROM estudantes\")\n",
    "print(cursor.fetchall())"
   ],
   "metadata": {
    "collapsed": false
   }
  },
  {
   "cell_type": "markdown",
   "source": [
    "2 - Manipulando dados com SQLite\n",
    "Inserindo n dados em uma tabela"
   ],
   "metadata": {
    "collapsed": false
   }
  },
  {
   "cell_type": "code",
   "execution_count": 5,
   "outputs": [],
   "source": [
    "# Primeiro criamos uma lista com conteúdo a ser inserido, na mesa ordem dos tipos de dados\n",
    "listaestudantes = [('2', 'Felipe', '18', 'felipe@mentorama.com', '1'),\n",
    "                   ('3', 'Maria', '45','maria@mentorama.com', '4'),\n",
    "                   ('4', 'João', '33', 'joao@mentorama.com', '4'),\n",
    "                   ('5', 'Lucia', '17', 'lucia@mentorama.com', '2'),\n",
    "                   ('6', 'Pedro', '32', 'pedro@mentorama.com', 'NULL'),\n",
    "                   ('7', 'Izabela', '23', 'izabela@mentorama.com', '3'),\n",
    "                   ('8', 'Eduardo', '59', 'eduardo@mentorama.com', '4'),\n",
    "                   ('9', 'Tiago', '38', 'tiago@mentorama.com', '5'),\n",
    "                   ('10', 'Ana', '25', 'ana@mentorama.com', 'NULL'),\n",
    "                   ('11', 'Carol', '36', 'carol@mentorama.com', '2'),\n",
    "                   ('12', 'Leonardo', '28', 'leonardo@mentorama.com', '3'),\n",
    "                   ('13', 'Vanessa', '45', 'vanessa@mentorama.com', '4'),\n",
    "                   ('14', 'João', '43', 'joaopedro@mentorama.com', '5'),\n",
    "                   ('15', 'Mari', '25', 'mari@mentorama.com', '6')]"
   ],
   "metadata": {
    "collapsed": false
   }
  },
  {
   "cell_type": "code",
   "execution_count": 6,
   "outputs": [
    {
     "name": "stdout",
     "output_type": "stream",
     "text": [
      "Dados inseridos com sucesso\n"
     ]
    }
   ],
   "source": [
    "# Inserimos os dados da Lista dentroi da tabela\n",
    "cursor.executemany(\"\"\"INSERT INTO estudantes VALUES (?,?,?,?,?)\"\"\", listaestudantes)\n",
    "print(\"Dados inseridos com sucesso\")\n",
    "banco.commit()"
   ],
   "metadata": {
    "collapsed": false
   }
  },
  {
   "cell_type": "code",
   "execution_count": 8,
   "outputs": [
    {
     "name": "stdout",
     "output_type": "stream",
     "text": [
      "[(1, 'Maria', 40, 'mariadosanjos@mentorama.com', 2), (2, 'Felipe', 18, 'felipe@mentorama.com', 1), (3, 'Maria', 45, 'maria@mentorama.com', 4), (4, 'João', 33, 'joao@mentorama.com', 4), (5, 'Lucia', 17, 'lucia@mentorama.com', 2), (6, 'Pedro', 32, 'pedro@mentorama.com', 'NULL'), (7, 'Izabela', 23, 'izabela@mentorama.com', 3), (8, 'Eduardo', 59, 'eduardo@mentorama.com', 4), (9, 'Tiago', 38, 'tiago@mentorama.com', 5), (10, 'Ana', 25, 'ana@mentorama.com', 'NULL'), (11, 'Carol', 36, 'carol@mentorama.com', 2), (12, 'Leonardo', 28, 'leonardo@mentorama.com', 3), (13, 'Vanessa', 45, 'vanessa@mentorama.com', 4), (14, 'João', 43, 'joaopedro@mentorama.com', 5), (15, 'Mari', 25, 'mari@mentorama.com', 6)]\n",
      "Dados inseridos com sucesso\n"
     ]
    }
   ],
   "source": [
    "# Conculta dados da tabela 'estudantes'\n",
    "cursor.execute(\"SELECT * FROM estudantes\")\n",
    "print(cursor.fetchall())\n",
    "print('Dados inseridos com sucesso')"
   ],
   "metadata": {
    "collapsed": false
   }
  },
  {
   "cell_type": "code",
   "execution_count": 11,
   "outputs": [
    {
     "name": "stdout",
     "output_type": "stream",
     "text": [
      "Registros atualizados com sucesso !\n"
     ]
    }
   ],
   "source": [
    "# Update - Ipad figura 1\n",
    "# Criamos o comando sql e depois executamos com o cursor\n",
    "sql = \"\"\"\n",
    "UPDATE estudantes\n",
    "SET nomeEstudante = 'Felipe'\n",
    "WHERE nomeEstudante = 'Diego'\n",
    "\"\"\"\n",
    "\n",
    "cursor.execute(sql)\n",
    "banco.commit()\n",
    "print('Registros atualizados com sucesso !')"
   ],
   "metadata": {
    "collapsed": false
   }
  },
  {
   "cell_type": "code",
   "execution_count": 12,
   "outputs": [
    {
     "name": "stdout",
     "output_type": "stream",
     "text": [
      "[(1, 'Maria', 40, 'mariadosanjos@mentorama.com', 2), (2, 'Felipe', 18, 'felipe@mentorama.com', 1), (3, 'Maria', 45, 'maria@mentorama.com', 4), (4, 'João', 33, 'joao@mentorama.com', 4), (5, 'Lucia', 17, 'lucia@mentorama.com', 2), (6, 'Pedro', 32, 'pedro@mentorama.com', 'NULL'), (7, 'Izabela', 23, 'izabela@mentorama.com', 3), (8, 'Eduardo', 59, 'eduardo@mentorama.com', 4), (9, 'Tiago', 38, 'tiago@mentorama.com', 5), (10, 'Ana', 25, 'ana@mentorama.com', 'NULL'), (11, 'Carol', 36, 'carol@mentorama.com', 2), (12, 'Leonardo', 28, 'leonardo@mentorama.com', 3), (13, 'Vanessa', 45, 'vanessa@mentorama.com', 4), (14, 'João', 43, 'joaopedro@mentorama.com', 5), (15, 'Mari', 25, 'mari@mentorama.com', 6)]\n"
     ]
    }
   ],
   "source": [
    "# Consulta dados da tabela 'estudantes'\n",
    "cursor.execute(\"SELECT * FROM estudantes\")\n",
    "print(cursor.fetchall())"
   ],
   "metadata": {
    "collapsed": false
   }
  },
  {
   "cell_type": "markdown",
   "source": [
    "Deletando registros"
   ],
   "metadata": {
    "collapsed": false
   }
  },
  {
   "cell_type": "code",
   "execution_count": 13,
   "outputs": [
    {
     "name": "stdout",
     "output_type": "stream",
     "text": [
      "Registros deletados com sucesso\n"
     ]
    }
   ],
   "source": [
    "# Deletando Ipad figura 2\n",
    "sql = \"\"\"\n",
    "DELETE FROM estudantes\n",
    "WHERE nomeEstudante = 'Maria'\n",
    "\"\"\"\n",
    "cursor.execute(sql)\n",
    "banco.commit()\n",
    "print('Registros deletados com sucesso')"
   ],
   "metadata": {
    "collapsed": false
   }
  },
  {
   "cell_type": "code",
   "execution_count": 14,
   "outputs": [
    {
     "name": "stdout",
     "output_type": "stream",
     "text": [
      "[(2, 'Felipe', 18, 'felipe@mentorama.com', 1), (4, 'João', 33, 'joao@mentorama.com', 4), (5, 'Lucia', 17, 'lucia@mentorama.com', 2), (6, 'Pedro', 32, 'pedro@mentorama.com', 'NULL'), (7, 'Izabela', 23, 'izabela@mentorama.com', 3), (8, 'Eduardo', 59, 'eduardo@mentorama.com', 4), (9, 'Tiago', 38, 'tiago@mentorama.com', 5), (10, 'Ana', 25, 'ana@mentorama.com', 'NULL'), (11, 'Carol', 36, 'carol@mentorama.com', 2), (12, 'Leonardo', 28, 'leonardo@mentorama.com', 3), (13, 'Vanessa', 45, 'vanessa@mentorama.com', 4), (14, 'João', 43, 'joaopedro@mentorama.com', 5), (15, 'Mari', 25, 'mari@mentorama.com', 6)]\n"
     ]
    }
   ],
   "source": [
    "# Consulta dados da tabela 'estudantes'\n",
    "cursor.execute(\"SELECT * FROM estudantes\")\n",
    "print(cursor.fetchall())"
   ],
   "metadata": {
    "collapsed": false
   }
  },
  {
   "cell_type": "markdown",
   "source": [
    "Deletando uma tabela"
   ],
   "metadata": {
    "collapsed": false
   }
  },
  {
   "cell_type": "code",
   "execution_count": 15,
   "outputs": [
    {
     "name": "stdout",
     "output_type": "stream",
     "text": [
      "Tabela deletada com sucesso\n"
     ]
    }
   ],
   "source": [
    "sql = \"\"\"\n",
    "DROP TABLE estudantes\n",
    "\"\"\"\n",
    "cursor.execute(sql)\n",
    "banco.commit()\n",
    "print(\"Tabela deletada com sucesso\")"
   ],
   "metadata": {
    "collapsed": false
   }
  },
  {
   "cell_type": "code",
   "execution_count": 16,
   "outputs": [
    {
     "ename": "OperationalError",
     "evalue": "no such table: estudantes",
     "output_type": "error",
     "traceback": [
      "\u001B[1;31m---------------------------------------------------------------------------\u001B[0m",
      "\u001B[1;31mOperationalError\u001B[0m                          Traceback (most recent call last)",
      "Cell \u001B[1;32mIn [16], line 2\u001B[0m\n\u001B[0;32m      1\u001B[0m \u001B[38;5;66;03m# Conculta dados da tabela 'estudantes'\u001B[39;00m\n\u001B[1;32m----> 2\u001B[0m \u001B[43mcursor\u001B[49m\u001B[38;5;241;43m.\u001B[39;49m\u001B[43mexecute\u001B[49m\u001B[43m(\u001B[49m\u001B[38;5;124;43m\"\u001B[39;49m\u001B[38;5;124;43mSELECT * FROM estudantes\u001B[39;49m\u001B[38;5;124;43m\"\u001B[39;49m\u001B[43m)\u001B[49m\n\u001B[0;32m      3\u001B[0m \u001B[38;5;28mprint\u001B[39m(cursor\u001B[38;5;241m.\u001B[39mfetchall())\n",
      "\u001B[1;31mOperationalError\u001B[0m: no such table: estudantes"
     ]
    }
   ],
   "source": [
    "# Conculta dados da tabela 'estudantes'\n",
    "cursor.execute(\"SELECT * FROM estudantes\")\n",
    "print(cursor.fetchall())"
   ],
   "metadata": {
    "collapsed": false
   }
  },
  {
   "cell_type": "code",
   "execution_count": null,
   "outputs": [],
   "source": [],
   "metadata": {
    "collapsed": false
   }
  }
 ],
 "metadata": {
  "kernelspec": {
   "display_name": "Python 3",
   "language": "python",
   "name": "python3"
  },
  "language_info": {
   "codemirror_mode": {
    "name": "ipython",
    "version": 2
   },
   "file_extension": ".py",
   "mimetype": "text/x-python",
   "name": "python",
   "nbconvert_exporter": "python",
   "pygments_lexer": "ipython2",
   "version": "2.7.6"
  }
 },
 "nbformat": 4,
 "nbformat_minor": 0
}
