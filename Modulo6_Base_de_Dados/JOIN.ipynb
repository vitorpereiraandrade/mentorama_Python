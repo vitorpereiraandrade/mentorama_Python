{
 "cells": [
  {
   "cell_type": "code",
   "execution_count": null,
   "outputs": [],
   "source": [
    "import sqlite3\n",
    "\n",
    "banco = sqlite3.connect('empresa.db')\n",
    "# Criando um cursor para operar comandos SQL\n",
    "cursor = banco.cursor()\n",
    "# Criando uma tabela 'estudantes' com os campos nomeEstudante, idade, email\n",
    "cursor.execute(\n",
    "    \"CREATE TABLE estudantes(idEstudante integer, nomeEstudante text, idade integer, email text, idDepartamento integer)\")\n",
    "# Inserindo dados na tabela\n",
    "cursor.execute(\"INSERT INTO estudantes VALUES(1, 'Maria', 40, 'mariadosanjos@mentorama.com',2)\")\n",
    "banco.commit()\n",
    "# Consulta dados da tabela 'estudantes'\n",
    "cursor.execute(\"SELECT * FROM estudantes\")\n",
    "print(cursor.fetchall())"
   ],
   "metadata": {
    "collapsed": false,
    "pycharm": {
     "is_executing": true
    }
   }
  },
  {
   "cell_type": "code",
   "execution_count": 3,
   "outputs": [
    {
     "name": "stdout",
     "output_type": "stream",
     "text": [
      "Dados inseridos com sucesso\n"
     ]
    }
   ],
   "source": [
    "# Primeiro criamos uma lista com conteúdo a ser inserido, na mesa ordem dos tipos de dados\n",
    "listaestudantes = [('2', 'Felipe', '18', 'felipe@mentorama.com', '1'),\n",
    "                   ('3', 'Maria', '45', 'maria@mentorama.com', '4'),\n",
    "                   ('4', 'João', '33', 'joao@mentorama.com', '4'),\n",
    "                   ('5', 'Lucia', '17', 'lucia@mentorama.com', '2'),\n",
    "                   ('6', 'Pedro', '32', 'pedro@mentorama.com', 'NULL'),\n",
    "                   ('7', 'Izabela', '23', 'izabela@mentorama.com', '3'),\n",
    "                   ('8', 'Eduardo', '59', 'eduardo@mentorama.com', '4'),\n",
    "                   ('9', 'Tiago', '38', 'tiago@mentorama.com', '5'),\n",
    "                   ('10', 'Ana', '25', 'ana@mentorama.com', 'NULL'),\n",
    "                   ('11', 'Carol', '36', 'carol@mentorama.com', '2'),\n",
    "                   ('12', 'Leonardo', '28', 'leonardo@mentorama.com', '3'),\n",
    "                   ('13', 'Vanessa', '45', 'vanessa@mentorama.com', '4'),\n",
    "                   ('14', 'João', '43', 'joaopedro@mentorama.com', '5'),\n",
    "                   ('15', 'Mari', '25', 'mari@mentorama.com', '6')]\n",
    "# Inserimos os dados da Lista dentroi da tabela\n",
    "cursor.executemany(\"\"\"INSERT INTO estudantes VALUES (?,?,?,?,?)\"\"\", listaestudantes)\n",
    "print(\"Dados inseridos com sucesso\")\n",
    "banco.commit()"
   ],
   "metadata": {
    "collapsed": false
   }
  },
  {
   "cell_type": "code",
   "execution_count": 4,
   "outputs": [
    {
     "name": "stdout",
     "output_type": "stream",
     "text": [
      "[(1, 'Maria', 40, 'mariadosanjos@mentorama.com', 2), (2, 'Felipe', 18, 'felipe@mentorama.com', 1), (3, 'Maria', 45, 'maria@mentorama.com', 4), (4, 'João', 33, 'joao@mentorama.com', 4), (5, 'Lucia', 17, 'lucia@mentorama.com', 2), (6, 'Pedro', 32, 'pedro@mentorama.com', 'NULL'), (7, 'Izabela', 23, 'izabela@mentorama.com', 3), (8, 'Eduardo', 59, 'eduardo@mentorama.com', 4), (9, 'Tiago', 38, 'tiago@mentorama.com', 5), (10, 'Ana', 25, 'ana@mentorama.com', 'NULL'), (11, 'Carol', 36, 'carol@mentorama.com', 2), (12, 'Leonardo', 28, 'leonardo@mentorama.com', 3), (13, 'Vanessa', 45, 'vanessa@mentorama.com', 4), (14, 'João', 43, 'joaopedro@mentorama.com', 5), (15, 'Mari', 25, 'mari@mentorama.com', 6), (2, 'Felipe', 18, 'felipe@mentorama.com', 1), (3, 'Maria', 45, 'maria@mentorama.com', 4), (4, 'João', 33, 'joao@mentorama.com', 4), (5, 'Lucia', 17, 'lucia@mentorama.com', 2), (6, 'Pedro', 32, 'pedro@mentorama.com', 'NULL'), (7, 'Izabela', 23, 'izabela@mentorama.com', 3), (8, 'Eduardo', 59, 'eduardo@mentorama.com', 4), (9, 'Tiago', 38, 'tiago@mentorama.com', 5), (10, 'Ana', 25, 'ana@mentorama.com', 'NULL'), (11, 'Carol', 36, 'carol@mentorama.com', 2), (12, 'Leonardo', 28, 'leonardo@mentorama.com', 3), (13, 'Vanessa', 45, 'vanessa@mentorama.com', 4), (14, 'João', 43, 'joaopedro@mentorama.com', 5), (15, 'Mari', 25, 'mari@mentorama.com', 6)]\n",
      "Dados inseridos com sucesso\n"
     ]
    }
   ],
   "source": [
    "# Conculta dados da tabela 'estudantes'\n",
    "cursor.execute(\"SELECT * FROM estudantes\")\n",
    "print(cursor.fetchall())\n",
    "print('Dados inseridos com sucesso')"
   ],
   "metadata": {
    "collapsed": false
   }
  },
  {
   "cell_type": "markdown",
   "source": [
    "\n",
    "INNER JOIN\n",
    "Figura (5) caderno"
   ],
   "metadata": {
    "collapsed": false
   }
  },
  {
   "cell_type": "code",
   "execution_count": 5,
   "outputs": [
    {
     "name": "stdout",
     "output_type": "stream",
     "text": [
      "Tabela criada com sucesso!\n",
      "Dados inserido com sucesso\n"
     ]
    }
   ],
   "source": [
    "# Criando uma tabela 'departamentos' com os campos idDepartamento, nomeDepartamento\n",
    "cursor.execute(\"CREATE TABLE departamentos (idDepartamento integer PRIMARY KEY, nomeDepartamento text )\")\n",
    "print('Tabela criada com sucesso!')\n",
    "# Inserindo dados na tabela\n",
    "# Primeiro criamos uma lista com conteúdo a ser inserido, na mesma ordem dos tipos de dados definidos\n",
    "listadepartamento = [('1', 'TI'),\n",
    "                     ('2', 'Fisica'),\n",
    "                     ('3', 'Matemática'),\n",
    "                     ('4', 'Engenharia'),\n",
    "                     ('5', 'Biologia'),\n",
    "                     ('6', 'História')]\n",
    "# Inserimos os dados da lista dentro da tabela\n",
    "cursor.executemany(\"\"\"INSERT INTO departamentos VALUES (?, ?)\"\"\", listadepartamento)\n",
    "print('Dados inserido com sucesso')\n",
    "banco.commit()"
   ],
   "metadata": {
    "collapsed": false
   }
  },
  {
   "cell_type": "code",
   "execution_count": null,
   "outputs": [],
   "source": [
    "# Deleta tabela departamentos caso necessario\n",
    "# cursor.execute(\"SELECT * FROM departamentos\")\n",
    "# print(cursor.fetchall())"
   ],
   "metadata": {
    "collapsed": false
   }
  },
  {
   "cell_type": "code",
   "execution_count": 6,
   "outputs": [
    {
     "name": "stdout",
     "output_type": "stream",
     "text": [
      "[(1, 'TI'), (2, 'Fisica'), (3, 'Matemática'), (4, 'Engenharia'), (5, 'Biologia'), (6, 'História')]\n"
     ]
    }
   ],
   "source": [
    "# Conculta dados da tabela 'departamentos'\n",
    "cursor.execute(\"SELECT * FROM departamentos\")\n",
    "print(cursor.fetchall())"
   ],
   "metadata": {
    "collapsed": false
   }
  },
  {
   "cell_type": "markdown",
   "source": [
    "VER FIGURA (6) CADERNO"
   ],
   "metadata": {
    "collapsed": false
   }
  },
  {
   "cell_type": "code",
   "execution_count": 7,
   "outputs": [
    {
     "name": "stdout",
     "output_type": "stream",
     "text": [
      "[('Maria', 'Fisica'), ('Felipe', 'TI'), ('Maria', 'Engenharia'), ('João', 'Engenharia'), ('Lucia', 'Fisica'), ('Izabela', 'Matemática'), ('Eduardo', 'Engenharia'), ('Tiago', 'Biologia'), ('Carol', 'Fisica'), ('Leonardo', 'Matemática'), ('Vanessa', 'Engenharia'), ('João', 'Biologia'), ('Mari', 'História'), ('Felipe', 'TI'), ('Maria', 'Engenharia'), ('João', 'Engenharia'), ('Lucia', 'Fisica'), ('Izabela', 'Matemática'), ('Eduardo', 'Engenharia'), ('Tiago', 'Biologia'), ('Carol', 'Fisica'), ('Leonardo', 'Matemática'), ('Vanessa', 'Engenharia'), ('João', 'Biologia'), ('Mari', 'História')]\n"
     ]
    }
   ],
   "source": [
    "sql = \"\"\"SELECT estudantes.nomeEstudante, departamentos.nomeDepartamento FROM departamentos\n",
    "INNER JOIN estudantes ON estudantes.idDepartamento = departamentos.idDepartamento\"\"\"\n",
    "cursor.execute(sql)\n",
    "print(cursor.fetchall())"
   ],
   "metadata": {
    "collapsed": false
   }
  },
  {
   "cell_type": "markdown",
   "source": [
    "LEFT JOIN\n",
    "FIGURA (7) CADERNO"
   ],
   "metadata": {
    "collapsed": false
   }
  },
  {
   "cell_type": "code",
   "execution_count": 8,
   "outputs": [
    {
     "name": "stdout",
     "output_type": "stream",
     "text": [
      "[('Maria', 'Fisica'), ('Felipe', 'TI'), ('Maria', 'Engenharia'), ('João', 'Engenharia'), ('Lucia', 'Fisica'), ('Pedro', None), ('Izabela', 'Matemática'), ('Eduardo', 'Engenharia'), ('Tiago', 'Biologia'), ('Ana', None), ('Carol', 'Fisica'), ('Leonardo', 'Matemática'), ('Vanessa', 'Engenharia'), ('João', 'Biologia'), ('Mari', 'História'), ('Felipe', 'TI'), ('Maria', 'Engenharia'), ('João', 'Engenharia'), ('Lucia', 'Fisica'), ('Pedro', None), ('Izabela', 'Matemática'), ('Eduardo', 'Engenharia'), ('Tiago', 'Biologia'), ('Ana', None), ('Carol', 'Fisica'), ('Leonardo', 'Matemática'), ('Vanessa', 'Engenharia'), ('João', 'Biologia'), ('Mari', 'História')]\n"
     ]
    }
   ],
   "source": [
    "# Estudantes é a tabela da esquerda\n",
    "# Repare a quantidade de registros gerada pela consulta\n",
    "sql = \"\"\"SELECT estudantes.nomeEstudante, departamentos.nomeDepartamento FROM estudantes\n",
    "LEFT JOIN departamentos ON estudantes.idDepartamento = departamentos.idDepartamento\"\"\"\n",
    "cursor.execute(sql)\n",
    "print(cursor.fetchall())"
   ],
   "metadata": {
    "collapsed": false
   }
  },
  {
   "cell_type": "markdown",
   "source": [
    "CROSS JOIN\n",
    "FIGURA (8) CADERNO\n",
    "Pega Todas combinações"
   ],
   "metadata": {
    "collapsed": false
   }
  },
  {
   "cell_type": "code",
   "execution_count": 9,
   "outputs": [
    {
     "name": "stdout",
     "output_type": "stream",
     "text": [
      "[('Maria', 'TI'), ('Maria', 'Fisica'), ('Maria', 'Matemática'), ('Maria', 'Engenharia'), ('Maria', 'Biologia'), ('Maria', 'História'), ('Felipe', 'TI'), ('Felipe', 'Fisica'), ('Felipe', 'Matemática'), ('Felipe', 'Engenharia'), ('Felipe', 'Biologia'), ('Felipe', 'História'), ('Maria', 'TI'), ('Maria', 'Fisica'), ('Maria', 'Matemática'), ('Maria', 'Engenharia'), ('Maria', 'Biologia'), ('Maria', 'História'), ('João', 'TI'), ('João', 'Fisica'), ('João', 'Matemática'), ('João', 'Engenharia'), ('João', 'Biologia'), ('João', 'História'), ('Lucia', 'TI'), ('Lucia', 'Fisica'), ('Lucia', 'Matemática'), ('Lucia', 'Engenharia'), ('Lucia', 'Biologia'), ('Lucia', 'História'), ('Pedro', 'TI'), ('Pedro', 'Fisica'), ('Pedro', 'Matemática'), ('Pedro', 'Engenharia'), ('Pedro', 'Biologia'), ('Pedro', 'História'), ('Izabela', 'TI'), ('Izabela', 'Fisica'), ('Izabela', 'Matemática'), ('Izabela', 'Engenharia'), ('Izabela', 'Biologia'), ('Izabela', 'História'), ('Eduardo', 'TI'), ('Eduardo', 'Fisica'), ('Eduardo', 'Matemática'), ('Eduardo', 'Engenharia'), ('Eduardo', 'Biologia'), ('Eduardo', 'História'), ('Tiago', 'TI'), ('Tiago', 'Fisica'), ('Tiago', 'Matemática'), ('Tiago', 'Engenharia'), ('Tiago', 'Biologia'), ('Tiago', 'História'), ('Ana', 'TI'), ('Ana', 'Fisica'), ('Ana', 'Matemática'), ('Ana', 'Engenharia'), ('Ana', 'Biologia'), ('Ana', 'História'), ('Carol', 'TI'), ('Carol', 'Fisica'), ('Carol', 'Matemática'), ('Carol', 'Engenharia'), ('Carol', 'Biologia'), ('Carol', 'História'), ('Leonardo', 'TI'), ('Leonardo', 'Fisica'), ('Leonardo', 'Matemática'), ('Leonardo', 'Engenharia'), ('Leonardo', 'Biologia'), ('Leonardo', 'História'), ('Vanessa', 'TI'), ('Vanessa', 'Fisica'), ('Vanessa', 'Matemática'), ('Vanessa', 'Engenharia'), ('Vanessa', 'Biologia'), ('Vanessa', 'História'), ('João', 'TI'), ('João', 'Fisica'), ('João', 'Matemática'), ('João', 'Engenharia'), ('João', 'Biologia'), ('João', 'História'), ('Mari', 'TI'), ('Mari', 'Fisica'), ('Mari', 'Matemática'), ('Mari', 'Engenharia'), ('Mari', 'Biologia'), ('Mari', 'História'), ('Felipe', 'TI'), ('Felipe', 'Fisica'), ('Felipe', 'Matemática'), ('Felipe', 'Engenharia'), ('Felipe', 'Biologia'), ('Felipe', 'História'), ('Maria', 'TI'), ('Maria', 'Fisica'), ('Maria', 'Matemática'), ('Maria', 'Engenharia'), ('Maria', 'Biologia'), ('Maria', 'História'), ('João', 'TI'), ('João', 'Fisica'), ('João', 'Matemática'), ('João', 'Engenharia'), ('João', 'Biologia'), ('João', 'História'), ('Lucia', 'TI'), ('Lucia', 'Fisica'), ('Lucia', 'Matemática'), ('Lucia', 'Engenharia'), ('Lucia', 'Biologia'), ('Lucia', 'História'), ('Pedro', 'TI'), ('Pedro', 'Fisica'), ('Pedro', 'Matemática'), ('Pedro', 'Engenharia'), ('Pedro', 'Biologia'), ('Pedro', 'História'), ('Izabela', 'TI'), ('Izabela', 'Fisica'), ('Izabela', 'Matemática'), ('Izabela', 'Engenharia'), ('Izabela', 'Biologia'), ('Izabela', 'História'), ('Eduardo', 'TI'), ('Eduardo', 'Fisica'), ('Eduardo', 'Matemática'), ('Eduardo', 'Engenharia'), ('Eduardo', 'Biologia'), ('Eduardo', 'História'), ('Tiago', 'TI'), ('Tiago', 'Fisica'), ('Tiago', 'Matemática'), ('Tiago', 'Engenharia'), ('Tiago', 'Biologia'), ('Tiago', 'História'), ('Ana', 'TI'), ('Ana', 'Fisica'), ('Ana', 'Matemática'), ('Ana', 'Engenharia'), ('Ana', 'Biologia'), ('Ana', 'História'), ('Carol', 'TI'), ('Carol', 'Fisica'), ('Carol', 'Matemática'), ('Carol', 'Engenharia'), ('Carol', 'Biologia'), ('Carol', 'História'), ('Leonardo', 'TI'), ('Leonardo', 'Fisica'), ('Leonardo', 'Matemática'), ('Leonardo', 'Engenharia'), ('Leonardo', 'Biologia'), ('Leonardo', 'História'), ('Vanessa', 'TI'), ('Vanessa', 'Fisica'), ('Vanessa', 'Matemática'), ('Vanessa', 'Engenharia'), ('Vanessa', 'Biologia'), ('Vanessa', 'História'), ('João', 'TI'), ('João', 'Fisica'), ('João', 'Matemática'), ('João', 'Engenharia'), ('João', 'Biologia'), ('João', 'História'), ('Mari', 'TI'), ('Mari', 'Fisica'), ('Mari', 'Matemática'), ('Mari', 'Engenharia'), ('Mari', 'Biologia'), ('Mari', 'História')]\n"
     ]
    }
   ],
   "source": [
    "sql = \"\"\"SELECT estudantes.nomeEstudante, departamentos.nomeDepartamento FROM estudantes\n",
    "CROSS JOIN departamentos\"\"\"\n",
    "cursor.execute(sql)\n",
    "print(cursor.fetchall())"
   ],
   "metadata": {
    "collapsed": false
   }
  },
  {
   "cell_type": "code",
   "execution_count": null,
   "outputs": [],
   "source": [],
   "metadata": {
    "collapsed": false
   }
  }
 ],
 "metadata": {
  "kernelspec": {
   "display_name": "Python 3",
   "language": "python",
   "name": "python3"
  },
  "language_info": {
   "codemirror_mode": {
    "name": "ipython",
    "version": 2
   },
   "file_extension": ".py",
   "mimetype": "text/x-python",
   "name": "python",
   "nbconvert_exporter": "python",
   "pygments_lexer": "ipython2",
   "version": "2.7.6"
  }
 },
 "nbformat": 4,
 "nbformat_minor": 0
}
