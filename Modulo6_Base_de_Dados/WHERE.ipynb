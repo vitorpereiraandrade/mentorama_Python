{
 "cells": [
  {
   "cell_type": "code",
   "execution_count": 1,
   "metadata": {
    "collapsed": true
   },
   "outputs": [],
   "source": [
    "import sqlite3\n",
    "banco = sqlite3.connect('empresa.db')"
   ]
  },
  {
   "cell_type": "code",
   "execution_count": 2,
   "outputs": [
    {
     "name": "stdout",
     "output_type": "stream",
     "text": [
      "[(1, 'Maria', 40, 'mariadosanjos@mentorama.com', 2)]\n"
     ]
    }
   ],
   "source": [
    "# Criando um cursor para operar comandos SQL\n",
    "cursor = banco.cursor()\n",
    "# Criando uma tabela 'estudantes' com os campos nomeEstudante, idade, email\n",
    "cursor.execute(\n",
    "    \"CREATE TABLE estudantes(idEstudante integer, nomeEstudante text, idade integer, email text, idDepartamento integer)\")\n",
    "# Inserindo dados na tabela\n",
    "cursor.execute(\"INSERT INTO estudantes VALUES(1, 'Maria', 40, 'mariadosanjos@mentorama.com',2)\")\n",
    "banco.commit()\n",
    "# Consulta dados da tabela 'estudantes'\n",
    "cursor.execute(\"SELECT * FROM estudantes\")\n",
    "print(cursor.fetchall())"
   ],
   "metadata": {
    "collapsed": false
   }
  },
  {
   "cell_type": "code",
   "execution_count": 3,
   "outputs": [
    {
     "name": "stdout",
     "output_type": "stream",
     "text": [
      "Dados inseridos com sucesso\n"
     ]
    }
   ],
   "source": [
    "# Primeiro criamos uma lista com conteúdo a ser inserido, na mesa ordem dos tipos de dados\n",
    "listaestudantes = [('2', 'Felipe', '18', 'felipe@mentorama.com', '1'),\n",
    "                   ('3', 'Maria', '45', 'maria@mentorama.com', '4'),\n",
    "                   ('4', 'João', '33', 'joao@mentorama.com', '4'),\n",
    "                   ('5', 'Lucia', '17', 'lucia@mentorama.com', '2'),\n",
    "                   ('6', 'Pedro', '32', 'pedro@mentorama.com', 'NULL'),\n",
    "                   ('7', 'Izabela', '23', 'izabela@mentorama.com', '3'),\n",
    "                   ('8', 'Eduardo', '59', 'eduardo@mentorama.com', '4'),\n",
    "                   ('9', 'Tiago', '38', 'tiago@mentorama.com', '5'),\n",
    "                   ('10', 'Ana', '25', 'ana@mentorama.com', 'NULL'),\n",
    "                   ('11', 'Carol', '36', 'carol@mentorama.com', '2'),\n",
    "                   ('12', 'Leonardo', '28', 'leonardo@mentorama.com', '3'),\n",
    "                   ('13', 'Vanessa', '45', 'vanessa@mentorama.com', '4'),\n",
    "                   ('14', 'João', '43', 'joaopedro@mentorama.com', '5'),\n",
    "                   ('15', 'Mari', '25', 'mari@mentorama.com', '6')]\n",
    "# Inserimos os dados da Lista dentroi da tabela\n",
    "cursor.executemany(\"\"\"INSERT INTO estudantes VALUES (?,?,?,?,?)\"\"\", listaestudantes)\n",
    "print(\"Dados inseridos com sucesso\")\n",
    "banco.commit()"
   ],
   "metadata": {
    "collapsed": false
   }
  },
  {
   "cell_type": "code",
   "execution_count": 4,
   "outputs": [
    {
     "name": "stdout",
     "output_type": "stream",
     "text": [
      "[(1, 'Maria', 40, 'mariadosanjos@mentorama.com', 2), (2, 'Felipe', 18, 'felipe@mentorama.com', 1), (3, 'Maria', 45, 'maria@mentorama.com', 4), (4, 'João', 33, 'joao@mentorama.com', 4), (5, 'Lucia', 17, 'lucia@mentorama.com', 2), (6, 'Pedro', 32, 'pedro@mentorama.com', 'NULL'), (7, 'Izabela', 23, 'izabela@mentorama.com', 3), (8, 'Eduardo', 59, 'eduardo@mentorama.com', 4), (9, 'Tiago', 38, 'tiago@mentorama.com', 5), (10, 'Ana', 25, 'ana@mentorama.com', 'NULL'), (11, 'Carol', 36, 'carol@mentorama.com', 2), (12, 'Leonardo', 28, 'leonardo@mentorama.com', 3), (13, 'Vanessa', 45, 'vanessa@mentorama.com', 4), (14, 'João', 43, 'joaopedro@mentorama.com', 5), (15, 'Mari', 25, 'mari@mentorama.com', 6)]\n",
      "Dados inseridos com sucesso\n"
     ]
    }
   ],
   "source": [
    "# Conculta dados da tabela 'estudantes'\n",
    "cursor.execute(\"SELECT * FROM estudantes\")\n",
    "print(cursor.fetchall())\n",
    "print('Dados inseridos com sucesso')"
   ],
   "metadata": {
    "collapsed": false
   }
  },
  {
   "cell_type": "markdown",
   "source": [
    "WHERE\n",
    "Vide figura (3) Ipad"
   ],
   "metadata": {
    "collapsed": false
   }
  },
  {
   "cell_type": "code",
   "execution_count": 5,
   "outputs": [
    {
     "name": "stdout",
     "output_type": "stream",
     "text": [
      "[(4, 'João', 33, 'joao@mentorama.com', 4)]\n"
     ]
    }
   ],
   "source": [
    "# Seleciona dados da tablea estudantes onde a idade é especificada\n",
    "cursor.execute(\"\"\"SELECT * FROM estudantes WHERE idade = '33'\"\"\")\n",
    "print(cursor.fetchall())"
   ],
   "metadata": {
    "collapsed": false
   }
  },
  {
   "cell_type": "code",
   "execution_count": 7,
   "outputs": [
    {
     "name": "stdout",
     "output_type": "stream",
     "text": [
      "[(2, 'Felipe', 18, 'felipe@mentorama.com', 1)]\n"
     ]
    }
   ],
   "source": [
    "# Seleciona dados da tabela estudantes onde o nome é especificado\n",
    "cursor.execute(\"\"\"SELECT * FROM estudantes WHERE nomeEstudante = 'Felipe'\"\"\")\n",
    "print(cursor.fetchall())"
   ],
   "metadata": {
    "collapsed": false
   }
  },
  {
   "cell_type": "code",
   "execution_count": 8,
   "outputs": [
    {
     "name": "stdout",
     "output_type": "stream",
     "text": [
      "[(1, 'Maria', 40, 'mariadosanjos@mentorama.com', 2), (2, 'Felipe', 18, 'felipe@mentorama.com', 1), (3, 'Maria', 45, 'maria@mentorama.com', 4), (4, 'João', 33, 'joao@mentorama.com', 4), (5, 'Lucia', 17, 'lucia@mentorama.com', 2), (6, 'Pedro', 32, 'pedro@mentorama.com', 'NULL'), (7, 'Izabela', 23, 'izabela@mentorama.com', 3), (8, 'Eduardo', 59, 'eduardo@mentorama.com', 4), (9, 'Tiago', 38, 'tiago@mentorama.com', 5), (10, 'Ana', 25, 'ana@mentorama.com', 'NULL'), (11, 'Carol', 36, 'carol@mentorama.com', 2), (12, 'Leonardo', 28, 'leonardo@mentorama.com', 3), (13, 'Vanessa', 45, 'vanessa@mentorama.com', 4), (14, 'João', 43, 'joaopedro@mentorama.com', 5), (15, 'Mari', 25, 'mari@mentorama.com', 6)]\n"
     ]
    }
   ],
   "source": [
    "# Consulta dados geral da tabela 'estudantes'\n",
    "cursor.execute(\"SELECT * FROM estudantes\")\n",
    "print(cursor.fetchall())"
   ],
   "metadata": {
    "collapsed": false
   }
  },
  {
   "cell_type": "markdown",
   "source": [
    "Operadores Lógicos - vide Ipad figura (4)"
   ],
   "metadata": {
    "collapsed": false
   }
  },
  {
   "cell_type": "code",
   "execution_count": 10,
   "outputs": [
    {
     "name": "stdout",
     "output_type": "stream",
     "text": [
      "[(2, 'Felipe', 18, 'felipe@mentorama.com', 1)]\n"
     ]
    }
   ],
   "source": [
    "# Seleciona dados da tabela estudantes onde o nome e a idade são especificados\n",
    "cursor.execute(\"SELECT * FROM estudantes WHERE nomeEstudante = 'Felipe' AND idade = '18' \")\n",
    "print(cursor.fetchall())"
   ],
   "metadata": {
    "collapsed": false
   }
  },
  {
   "cell_type": "code",
   "execution_count": 11,
   "outputs": [
    {
     "name": "stdout",
     "output_type": "stream",
     "text": [
      "[(1, 'Maria', 40, 'mariadosanjos@mentorama.com', 2), (2, 'Felipe', 18, 'felipe@mentorama.com', 1), (3, 'Maria', 45, 'maria@mentorama.com', 4)]\n"
     ]
    }
   ],
   "source": [
    "# Vamos selecionar dados da tabela estudantes onde queremso retornar os registors que tenham o nome Maria OR possuam idade = 18\n",
    "cursor.execute(\"SELECT * FROM estudantes WHERE nomeEstudante = 'Maria' OR idade = '18'\")\n",
    "print(cursor.fetchall())"
   ],
   "metadata": {
    "collapsed": false
   }
  },
  {
   "cell_type": "code",
   "execution_count": 13,
   "outputs": [
    {
     "name": "stdout",
     "output_type": "stream",
     "text": [
      "[(2, 'Felipe', 18, 'felipe@mentorama.com', 1), (4, 'João', 33, 'joao@mentorama.com', 4), (5, 'Lucia', 17, 'lucia@mentorama.com', 2), (6, 'Pedro', 32, 'pedro@mentorama.com', 'NULL'), (7, 'Izabela', 23, 'izabela@mentorama.com', 3), (8, 'Eduardo', 59, 'eduardo@mentorama.com', 4), (9, 'Tiago', 38, 'tiago@mentorama.com', 5), (10, 'Ana', 25, 'ana@mentorama.com', 'NULL'), (11, 'Carol', 36, 'carol@mentorama.com', 2), (12, 'Leonardo', 28, 'leonardo@mentorama.com', 3), (13, 'Vanessa', 45, 'vanessa@mentorama.com', 4), (14, 'João', 43, 'joaopedro@mentorama.com', 5), (15, 'Mari', 25, 'mari@mentorama.com', 6)]\n"
     ]
    }
   ],
   "source": [
    "# Vamos usar o operador NOT\n",
    "# Vamos selecionar dados da tabela estudantes e retornar todos os registors que não tenham o nome Maria ou que a idade seja =18\n",
    "cursor.execute(\"SELECT * FROM estudantes WHERE NOT nomeEstudante = 'Maria' OR idade = '18' \")\n",
    "print(cursor.fetchall())"
   ],
   "metadata": {
    "collapsed": false
   }
  },
  {
   "cell_type": "code",
   "execution_count": 14,
   "outputs": [
    {
     "name": "stdout",
     "output_type": "stream",
     "text": [
      "[(4, 'João', 33, 'joao@mentorama.com', 4), (6, 'Pedro', 32, 'pedro@mentorama.com', 'NULL'), (7, 'Izabela', 23, 'izabela@mentorama.com', 3), (8, 'Eduardo', 59, 'eduardo@mentorama.com', 4), (9, 'Tiago', 38, 'tiago@mentorama.com', 5), (10, 'Ana', 25, 'ana@mentorama.com', 'NULL'), (11, 'Carol', 36, 'carol@mentorama.com', 2), (12, 'Leonardo', 28, 'leonardo@mentorama.com', 3), (13, 'Vanessa', 45, 'vanessa@mentorama.com', 4), (14, 'João', 43, 'joaopedro@mentorama.com', 5), (15, 'Mari', 25, 'mari@mentorama.com', 6)]\n"
     ]
    }
   ],
   "source": [
    "# Vamos selecionar dados da tabela estudantes e retornar todos os registros cujo o nome não seja Maria E que a idade seja maior que 18\n",
    "cursor.execute(\"SELECT * FROM estudantes WHERE NOT nomeEstudante = 'Maria' AND idade > '18' \")\n",
    "print(cursor.fetchall())"
   ],
   "metadata": {
    "collapsed": false
   }
  },
  {
   "cell_type": "markdown",
   "source": [
    "ORDER BY\n",
    "Ordem ascendente/crescente (ASC)\n",
    "Ordem decrescente (DESC)"
   ],
   "metadata": {
    "collapsed": false
   }
  },
  {
   "cell_type": "code",
   "execution_count": 15,
   "outputs": [
    {
     "name": "stdout",
     "output_type": "stream",
     "text": [
      "[('Lucia', 17), ('Felipe', 18), ('Izabela', 23), ('Ana', 25), ('Mari', 25), ('Leonardo', 28), ('Pedro', 32), ('João', 33), ('Carol', 36), ('Tiago', 38), ('Maria', 40), ('João', 43), ('Maria', 45), ('Vanessa', 45), ('Eduardo', 59)]\n"
     ]
    }
   ],
   "source": [
    "cursor.execute(\"SELECT nomeEstudante, idade FROM estudantes ORDER BY idade ASC\")\n",
    "print(cursor.fetchall())"
   ],
   "metadata": {
    "collapsed": false
   }
  },
  {
   "cell_type": "markdown",
   "source": [
    "GROUP BY\n",
    "Voce pode solicitar que as linhas retornadas sejam classificads por um dos campos escolhidos"
   ],
   "metadata": {
    "collapsed": false
   }
  },
  {
   "cell_type": "code",
   "execution_count": 16,
   "outputs": [
    {
     "name": "stdout",
     "output_type": "stream",
     "text": [
      "[('Ana', 'NULL'), ('Carol', 2), ('Eduardo', 4), ('Felipe', 1), ('Izabela', 3), ('João', 4), ('Leonardo', 3), ('Lucia', 2), ('Mari', 6), ('Maria', 2), ('Pedro', 'NULL'), ('Tiago', 5), ('Vanessa', 4)]\n"
     ]
    }
   ],
   "source": [
    "cursor.execute(\"SELECT nomeEstudante, idDepartamento FROM estudantes GROUP BY nomeEstudante\")\n",
    "print(cursor.fetchall())"
   ],
   "metadata": {
    "collapsed": false
   }
  },
  {
   "cell_type": "markdown",
   "source": [
    "SELECT COUNT/AVG/SUM\n",
    "A função COUNT() retorno o número de linhas que correspondem a um critério especificado"
   ],
   "metadata": {
    "collapsed": false
   }
  },
  {
   "cell_type": "code",
   "execution_count": 17,
   "outputs": [
    {
     "name": "stdout",
     "output_type": "stream",
     "text": [
      "[(2,)]\n"
     ]
    }
   ],
   "source": [
    "sql = \"\"\"SELECT COUNT(nomeEstudante) FROM estudantes WHERE nomeEstudante = 'Maria'\"\"\"\n",
    "cursor.execute(sql)\n",
    "print(cursor.fetchall())"
   ],
   "metadata": {
    "collapsed": false
   }
  },
  {
   "cell_type": "markdown",
   "source": [
    "A função AVG() retorna o valor médio de uma coluna numérica"
   ],
   "metadata": {
    "collapsed": false
   }
  },
  {
   "cell_type": "code",
   "execution_count": 18,
   "outputs": [
    {
     "data": {
      "text/plain": "[(36.30769230769231,)]"
     },
     "execution_count": 18,
     "metadata": {},
     "output_type": "execute_result"
    }
   ],
   "source": [
    "sql = \"\"\"SELECT AVG(idade) FROM estudantes WHERE idade > '18'\"\"\"\n",
    "cursor.execute(sql)\n",
    "cursor.fetchall()"
   ],
   "metadata": {
    "collapsed": false
   }
  },
  {
   "cell_type": "markdown",
   "source": [
    "A função SUM() retorna a soma total de uma coluna numérica - somar todas as idades maior que 18"
   ],
   "metadata": {
    "collapsed": false
   }
  },
  {
   "cell_type": "code",
   "execution_count": 19,
   "outputs": [
    {
     "data": {
      "text/plain": "[(472,)]"
     },
     "execution_count": 19,
     "metadata": {},
     "output_type": "execute_result"
    }
   ],
   "source": [
    "sql = \"\"\"SELECT SUM(idade) FROM estudantes WHERE idade > '18'\"\"\"\n",
    "cursor.execute(sql)\n",
    "cursor.fetchall()"
   ],
   "metadata": {
    "collapsed": false
   }
  },
  {
   "cell_type": "code",
   "execution_count": null,
   "outputs": [],
   "source": [],
   "metadata": {
    "collapsed": false
   }
  }
 ],
 "metadata": {
  "kernelspec": {
   "display_name": "Python 3",
   "language": "python",
   "name": "python3"
  },
  "language_info": {
   "codemirror_mode": {
    "name": "ipython",
    "version": 2
   },
   "file_extension": ".py",
   "mimetype": "text/x-python",
   "name": "python",
   "nbconvert_exporter": "python",
   "pygments_lexer": "ipython2",
   "version": "2.7.6"
  }
 },
 "nbformat": 4,
 "nbformat_minor": 0
}
