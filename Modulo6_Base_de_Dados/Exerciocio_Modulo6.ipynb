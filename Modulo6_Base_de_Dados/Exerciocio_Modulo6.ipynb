{
 "cells": [
  {
   "cell_type": "code",
   "execution_count": 1,
   "metadata": {
    "collapsed": true
   },
   "outputs": [],
   "source": [
    "import sqlite3\n",
    "banco = sqlite3.connect('empresas.db')"
   ]
  },
  {
   "cell_type": "code",
   "execution_count": 2,
   "outputs": [],
   "source": [
    "cursor = banco.cursor()"
   ],
   "metadata": {
    "collapsed": false
   }
  },
  {
   "cell_type": "code",
   "execution_count": 3,
   "outputs": [],
   "source": [
    "cursor.execute(\"CREATE TABLE funcionarios(idCodigo integer, primeiroNome text, segundoNome text, ultimoNome text, dataNasci integer, cpf integer, rg integer,\"\n",
    "               \"endereco text, cep integer, cidade text, fone integer, codigoDepartamento integer, funcao text, salario integer) \")\n",
    "banco.commit()"
   ],
   "metadata": {
    "collapsed": false
   }
  },
  {
   "cell_type": "code",
   "execution_count": 4,
   "outputs": [
    {
     "name": "stdout",
     "output_type": "stream",
     "text": [
      "[]\n"
     ]
    }
   ],
   "source": [
    "cursor.execute(\"SELECT * FROM funcionarios\")\n",
    "print(cursor.fetchall())"
   ],
   "metadata": {
    "collapsed": false
   }
  },
  {
   "cell_type": "code",
   "execution_count": 5,
   "outputs": [],
   "source": [
    "listafuncionarios = [('1', 'Maria', 'Aparecida', 'da Silva', '15/04/78', '155.879.410-25', '352478', 'Rua da Silva 22', '13258-741', 'Sao Paulo', '11-7854287', '10', 'Adm', '1400'),\n",
    "                     ('2', 'Antonio', 'Jose', 'Pereira', '13/01/95', '111.555.888-77', '123487', 'Rua Jose 32', '13785-520', 'Sao Paulo', '11-897524', '12', 'Escritorio', '1500'),\n",
    "                     ('3','Jose', 'Antonio', 'Nogueira', '24/02/00', '123.858.777-85', '321456', 'Rua Jose 15', '13852-789', 'Sao Paulo', '15-859789', '10', 'Financas', '2000'),\n",
    "                     ('4','Matias', 'Antonio', 'Nascimento', '10/02/00', '723.858.777-85', '351456', 'Rua Matias 34', '13857-111', 'Campinas', '19-123456', '10', 'Desenvolvedor', '2500'),\n",
    "                     ('5','Vitor', 'Marco', 'Santos', '15/07/94', '523.958.777-85', '1121456', 'Rua Vitor 458', '11852-789', 'Tiete', '14-7959789', '20', 'Vendedor', '4500'),\n",
    "                     ('6','Marcio', 'Gaspar', 'Testo', '05/04/85', '897.258.777-85', '875987456', 'Rua Marcio 792', '23872-789', 'Bauru', '18-9785489', '12', 'Auxiliar', '1000'),\n",
    "                     ('7','Laercio', 'Pereira', 'Nogueira', '08/07/89', '123.857.012-87', '7777777', 'Rua Laercio 222', '58852-480', 'Campinas', '19-58794567', '20', 'Software', '5000'),\n",
    "                     ('8','Sabrina', 'Fogaca', 'Sousa', '15/08/90', '589.235.712-98', '333333', 'Rua Sabrina 308', '52222-789', 'Sao Paulo', '11-1111111', '12', 'Financeiro', '8000'),\n",
    "                     ('9','Marisa', 'Fonseca', 'Nunes', '18/11/81', '777.854.999-11', '3569874', 'Rua Marisa 789', '55214-250', 'Osasco', '11-7777777', '20', 'Operario', '3500'),\n",
    "                     ('10','Neusa', 'Ramos', 'Nurci', '30/09/80', '888.456.987-23', '1111111', 'Rua Neusa 123', '77777-789', 'Valinhos', '19-77785698', '12', 'Encarregado', '5500')]\n"
   ],
   "metadata": {
    "collapsed": false
   }
  },
  {
   "cell_type": "code",
   "execution_count": 6,
   "outputs": [
    {
     "name": "stdout",
     "output_type": "stream",
     "text": [
      "Dados Inseridos\n"
     ]
    }
   ],
   "source": [
    "cursor.executemany(\"\"\"INSERT INTO funcionarios VALUES(?, ?, ?, ?, ?, ?, ?, ?, ?, ?, ?, ?, ?, ?)\"\"\", listafuncionarios)\n",
    "print('Dados Inseridos')\n",
    "banco.commit()"
   ],
   "metadata": {
    "collapsed": false
   }
  },
  {
   "cell_type": "code",
   "execution_count": 7,
   "outputs": [
    {
     "name": "stdout",
     "output_type": "stream",
     "text": [
      "[(1, 'Maria', 'Aparecida', 'da Silva', '15/04/78', '155.879.410-25', 352478, 'Rua da Silva 22', '13258-741', 'Sao Paulo', '11-7854287', 10, 'Adm', 1400), (2, 'Antonio', 'Jose', 'Pereira', '13/01/95', '111.555.888-77', 123487, 'Rua Jose 32', '13785-520', 'Sao Paulo', '11-897524', 12, 'Escritorio', 1500), (3, 'Jose', 'Antonio', 'Nogueira', '24/02/00', '123.858.777-85', 321456, 'Rua Jose 15', '13852-789', 'Sao Paulo', '15-859789', 10, 'Financas', 2000), (4, 'Matias', 'Antonio', 'Nascimento', '10/02/00', '723.858.777-85', 351456, 'Rua Matias 34', '13857-111', 'Campinas', '19-123456', 10, 'Desenvolvedor', 2500), (5, 'Vitor', 'Marco', 'Santos', '15/07/94', '523.958.777-85', 1121456, 'Rua Vitor 458', '11852-789', 'Tiete', '14-7959789', 20, 'Vendedor', 4500), (6, 'Marcio', 'Gaspar', 'Testo', '05/04/85', '897.258.777-85', 875987456, 'Rua Marcio 792', '23872-789', 'Bauru', '18-9785489', 12, 'Auxiliar', 1000), (7, 'Laercio', 'Pereira', 'Nogueira', '08/07/89', '123.857.012-87', 7777777, 'Rua Laercio 222', '58852-480', 'Campinas', '19-58794567', 20, 'Software', 5000), (8, 'Sabrina', 'Fogaca', 'Sousa', '15/08/90', '589.235.712-98', 333333, 'Rua Sabrina 308', '52222-789', 'Sao Paulo', '11-1111111', 12, 'Financeiro', 8000), (9, 'Marisa', 'Fonseca', 'Nunes', '18/11/81', '777.854.999-11', 3569874, 'Rua Marisa 789', '55214-250', 'Osasco', '11-7777777', 20, 'Operario', 3500), (10, 'Neusa', 'Ramos', 'Nurci', '30/09/80', '888.456.987-23', 1111111, 'Rua Neusa 123', '77777-789', 'Valinhos', '19-77785698', 12, 'Encarregado', 5500)]\n"
     ]
    }
   ],
   "source": [
    "cursor.execute(\"SELECT * FROM funcionarios\")\n",
    "print(cursor.fetchall())"
   ],
   "metadata": {
    "collapsed": false
   }
  },
  {
   "cell_type": "code",
   "execution_count": null,
   "outputs": [],
   "source": [],
   "metadata": {
    "collapsed": false
   }
  }
 ],
 "metadata": {
  "kernelspec": {
   "display_name": "Python 3",
   "language": "python",
   "name": "python3"
  },
  "language_info": {
   "codemirror_mode": {
    "name": "ipython",
    "version": 2
   },
   "file_extension": ".py",
   "mimetype": "text/x-python",
   "name": "python",
   "nbconvert_exporter": "python",
   "pygments_lexer": "ipython2",
   "version": "2.7.6"
  }
 },
 "nbformat": 4,
 "nbformat_minor": 0
}
