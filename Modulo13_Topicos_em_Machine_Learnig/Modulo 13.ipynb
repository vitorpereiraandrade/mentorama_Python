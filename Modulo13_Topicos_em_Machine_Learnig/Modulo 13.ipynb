{
 "nbformat": 4,
 "nbformat_minor": 0,
 "metadata": {
  "colab": {
   "provenance": [],
   "authorship_tag": "ABX9TyPyaQsfWcrynEionXysNEtI"
  },
  "kernelspec": {
   "name": "python3",
   "display_name": "Python 3"
  },
  "language_info": {
   "name": "python"
  }
 },
 "cells": [
  {
   "cell_type": "markdown",
   "source": [
    "# **AULA PRÁTICA DE MACHINE LEARNING**"
   ],
   "metadata": {
    "id": "wYv6VzmAwSw6"
   }
  },
  {
   "cell_type": "markdown",
   "source": [
    "Neste exercício vamos criar modelos de Machine Learning que predizem se o tumor de determinados pacientes é maligno ou benigno baseando-se nas suas características. O intuito é que este modelo auxilie os médicos no momento de diagnosticar seus paciencietes que podem estar com câncer ou não, a depender da classe do tumor.\n",
    "\n",
    "\n",
    "Os atributos da base de dados que utilizaremos são características extraídas dos tumores, sendo elas:\n",
    "\n",
    "a) raio (média das distâncias do centro aos pontos do perímetro)\n",
    "\n",
    "b) textura (desvio padrão dos valores de escala de cinza)\n",
    "\n",
    "c) perímetro\n",
    "\n",
    "d) área\n",
    "\n",
    "e) suavidade (variação local nos comprimentos dos raios)\n",
    "\n",
    "f) compacidade (perímetro^2 / área - 1,0)\n",
    "\n",
    "g) concavidade (gravidade das porções côncavas do contorno)\n",
    "\n",
    "h) pontos côncavos (número de porções côncavas do contorno)\n",
    "\n",
    "e) simetria\n",
    "\n",
    "j) dimensão fractal (\"aproximação do litoral\" - 1)\n",
    "\n",
    "O atributo diagnóstico pode ser lido como: **(0-tumor maligno, 1 tumor benigno)**\n",
    "\n",
    "\n",
    "\n",
    "Caso precisem, nos links a seguir vocês encontram mais detalhes sobre a base:\n",
    "https://archive.ics.uci.edu/ml/datasets/breast+cancer+wisconsin+%28diagnostic%29\n",
    "\n",
    "\n",
    "https://scikit-learn.org/stable/datasets/toy_dataset.html#breast-cancer-dataset"
   ],
   "metadata": {
    "id": "WAYKb6FttUpl"
   }
  },
  {
   "cell_type": "markdown",
   "source": [
    "**Aqui vamos carregar o dataset**"
   ],
   "metadata": {
    "id": "GRoQyTrhxPsi"
   }
  },
  {
   "cell_type": "code",
   "execution_count": 10,
   "metadata": {
    "id": "-Ip4rvTFTk0c",
    "executionInfo": {
     "status": "ok",
     "timestamp": 1672937562166,
     "user_tz": 180,
     "elapsed": 1333,
     "user": {
      "displayName": "Milena Menezes Adão",
      "userId": "01995504081397239354"
     }
    },
    "outputId": "f068a93d-9607-4021-eb9d-af3c7648b04e",
    "colab": {
     "base_uri": "https://localhost:8080/"
    }
   },
   "outputs": [
    {
     "data": {
      "text/plain": "{'data': array([[1.799e+01, 1.038e+01, 1.228e+02, ..., 2.654e-01, 4.601e-01,\n         1.189e-01],\n        [2.057e+01, 1.777e+01, 1.329e+02, ..., 1.860e-01, 2.750e-01,\n         8.902e-02],\n        [1.969e+01, 2.125e+01, 1.300e+02, ..., 2.430e-01, 3.613e-01,\n         8.758e-02],\n        ...,\n        [1.660e+01, 2.808e+01, 1.083e+02, ..., 1.418e-01, 2.218e-01,\n         7.820e-02],\n        [2.060e+01, 2.933e+01, 1.401e+02, ..., 2.650e-01, 4.087e-01,\n         1.240e-01],\n        [7.760e+00, 2.454e+01, 4.792e+01, ..., 0.000e+00, 2.871e-01,\n         7.039e-02]]),\n 'target': array([0, 0, 0, 0, 0, 0, 0, 0, 0, 0, 0, 0, 0, 0, 0, 0, 0, 0, 0, 1, 1, 1,\n        0, 0, 0, 0, 0, 0, 0, 0, 0, 0, 0, 0, 0, 0, 0, 1, 0, 0, 0, 0, 0, 0,\n        0, 0, 1, 0, 1, 1, 1, 1, 1, 0, 0, 1, 0, 0, 1, 1, 1, 1, 0, 1, 0, 0,\n        1, 1, 1, 1, 0, 1, 0, 0, 1, 0, 1, 0, 0, 1, 1, 1, 0, 0, 1, 0, 0, 0,\n        1, 1, 1, 0, 1, 1, 0, 0, 1, 1, 1, 0, 0, 1, 1, 1, 1, 0, 1, 1, 0, 1,\n        1, 1, 1, 1, 1, 1, 1, 0, 0, 0, 1, 0, 0, 1, 1, 1, 0, 0, 1, 0, 1, 0,\n        0, 1, 0, 0, 1, 1, 0, 1, 1, 0, 1, 1, 1, 1, 0, 1, 1, 1, 1, 1, 1, 1,\n        1, 1, 0, 1, 1, 1, 1, 0, 0, 1, 0, 1, 1, 0, 0, 1, 1, 0, 0, 1, 1, 1,\n        1, 0, 1, 1, 0, 0, 0, 1, 0, 1, 0, 1, 1, 1, 0, 1, 1, 0, 0, 1, 0, 0,\n        0, 0, 1, 0, 0, 0, 1, 0, 1, 0, 1, 1, 0, 1, 0, 0, 0, 0, 1, 1, 0, 0,\n        1, 1, 1, 0, 1, 1, 1, 1, 1, 0, 0, 1, 1, 0, 1, 1, 0, 0, 1, 0, 1, 1,\n        1, 1, 0, 1, 1, 1, 1, 1, 0, 1, 0, 0, 0, 0, 0, 0, 0, 0, 0, 0, 0, 0,\n        0, 0, 1, 1, 1, 1, 1, 1, 0, 1, 0, 1, 1, 0, 1, 1, 0, 1, 0, 0, 1, 1,\n        1, 1, 1, 1, 1, 1, 1, 1, 1, 1, 1, 0, 1, 1, 0, 1, 0, 1, 1, 1, 1, 1,\n        1, 1, 1, 1, 1, 1, 1, 1, 1, 0, 1, 1, 1, 0, 1, 0, 1, 1, 1, 1, 0, 0,\n        0, 1, 1, 1, 1, 0, 1, 0, 1, 0, 1, 1, 1, 0, 1, 1, 1, 1, 1, 1, 1, 0,\n        0, 0, 1, 1, 1, 1, 1, 1, 1, 1, 1, 1, 1, 0, 0, 1, 0, 0, 0, 1, 0, 0,\n        1, 1, 1, 1, 1, 0, 1, 1, 1, 1, 1, 0, 1, 1, 1, 0, 1, 1, 0, 0, 1, 1,\n        1, 1, 1, 1, 0, 1, 1, 1, 1, 1, 1, 1, 0, 1, 1, 1, 1, 1, 0, 1, 1, 0,\n        1, 1, 1, 1, 1, 1, 1, 1, 1, 1, 1, 1, 0, 1, 0, 0, 1, 0, 1, 1, 1, 1,\n        1, 0, 1, 1, 0, 1, 0, 1, 1, 0, 1, 0, 1, 1, 1, 1, 1, 1, 1, 1, 0, 0,\n        1, 1, 1, 1, 1, 1, 0, 1, 1, 1, 1, 1, 1, 1, 1, 1, 1, 0, 1, 1, 1, 1,\n        1, 1, 1, 0, 1, 0, 1, 1, 0, 1, 1, 1, 1, 1, 0, 0, 1, 0, 1, 0, 1, 1,\n        1, 1, 1, 0, 1, 1, 0, 1, 0, 1, 0, 0, 1, 1, 1, 0, 1, 1, 1, 1, 1, 1,\n        1, 1, 1, 1, 1, 0, 1, 0, 0, 1, 1, 1, 1, 1, 1, 1, 1, 1, 1, 1, 1, 1,\n        1, 1, 1, 1, 1, 1, 1, 1, 1, 1, 1, 1, 0, 0, 0, 0, 0, 0, 1]),\n 'frame': None,\n 'target_names': array(['malignant', 'benign'], dtype='<U9'),\n 'DESCR': '.. _breast_cancer_dataset:\\n\\nBreast cancer wisconsin (diagnostic) dataset\\n--------------------------------------------\\n\\n**Data Set Characteristics:**\\n\\n    :Number of Instances: 569\\n\\n    :Number of Attributes: 30 numeric, predictive attributes and the class\\n\\n    :Attribute Information:\\n        - radius (mean of distances from center to points on the perimeter)\\n        - texture (standard deviation of gray-scale values)\\n        - perimeter\\n        - area\\n        - smoothness (local variation in radius lengths)\\n        - compactness (perimeter^2 / area - 1.0)\\n        - concavity (severity of concave portions of the contour)\\n        - concave points (number of concave portions of the contour)\\n        - symmetry\\n        - fractal dimension (\"coastline approximation\" - 1)\\n\\n        The mean, standard error, and \"worst\" or largest (mean of the three\\n        worst/largest values) of these features were computed for each image,\\n        resulting in 30 features.  For instance, field 0 is Mean Radius, field\\n        10 is Radius SE, field 20 is Worst Radius.\\n\\n        - class:\\n                - WDBC-Malignant\\n                - WDBC-Benign\\n\\n    :Summary Statistics:\\n\\n    ===================================== ====== ======\\n                                           Min    Max\\n    ===================================== ====== ======\\n    radius (mean):                        6.981  28.11\\n    texture (mean):                       9.71   39.28\\n    perimeter (mean):                     43.79  188.5\\n    area (mean):                          143.5  2501.0\\n    smoothness (mean):                    0.053  0.163\\n    compactness (mean):                   0.019  0.345\\n    concavity (mean):                     0.0    0.427\\n    concave points (mean):                0.0    0.201\\n    symmetry (mean):                      0.106  0.304\\n    fractal dimension (mean):             0.05   0.097\\n    radius (standard error):              0.112  2.873\\n    texture (standard error):             0.36   4.885\\n    perimeter (standard error):           0.757  21.98\\n    area (standard error):                6.802  542.2\\n    smoothness (standard error):          0.002  0.031\\n    compactness (standard error):         0.002  0.135\\n    concavity (standard error):           0.0    0.396\\n    concave points (standard error):      0.0    0.053\\n    symmetry (standard error):            0.008  0.079\\n    fractal dimension (standard error):   0.001  0.03\\n    radius (worst):                       7.93   36.04\\n    texture (worst):                      12.02  49.54\\n    perimeter (worst):                    50.41  251.2\\n    area (worst):                         185.2  4254.0\\n    smoothness (worst):                   0.071  0.223\\n    compactness (worst):                  0.027  1.058\\n    concavity (worst):                    0.0    1.252\\n    concave points (worst):               0.0    0.291\\n    symmetry (worst):                     0.156  0.664\\n    fractal dimension (worst):            0.055  0.208\\n    ===================================== ====== ======\\n\\n    :Missing Attribute Values: None\\n\\n    :Class Distribution: 212 - Malignant, 357 - Benign\\n\\n    :Creator:  Dr. William H. Wolberg, W. Nick Street, Olvi L. Mangasarian\\n\\n    :Donor: Nick Street\\n\\n    :Date: November, 1995\\n\\nThis is a copy of UCI ML Breast Cancer Wisconsin (Diagnostic) datasets.\\nhttps://goo.gl/U2Uwz2\\n\\nFeatures are computed from a digitized image of a fine needle\\naspirate (FNA) of a breast mass.  They describe\\ncharacteristics of the cell nuclei present in the image.\\n\\nSeparating plane described above was obtained using\\nMultisurface Method-Tree (MSM-T) [K. P. Bennett, \"Decision Tree\\nConstruction Via Linear Programming.\" Proceedings of the 4th\\nMidwest Artificial Intelligence and Cognitive Science Society,\\npp. 97-101, 1992], a classification method which uses linear\\nprogramming to construct a decision tree.  Relevant features\\nwere selected using an exhaustive search in the space of 1-4\\nfeatures and 1-3 separating planes.\\n\\nThe actual linear program used to obtain the separating plane\\nin the 3-dimensional space is that described in:\\n[K. P. Bennett and O. L. Mangasarian: \"Robust Linear\\nProgramming Discrimination of Two Linearly Inseparable Sets\",\\nOptimization Methods and Software 1, 1992, 23-34].\\n\\nThis database is also available through the UW CS ftp server:\\n\\nftp ftp.cs.wisc.edu\\ncd math-prog/cpo-dataset/machine-learn/WDBC/\\n\\n.. topic:: References\\n\\n   - W.N. Street, W.H. Wolberg and O.L. Mangasarian. Nuclear feature extraction \\n     for breast tumor diagnosis. IS&T/SPIE 1993 International Symposium on \\n     Electronic Imaging: Science and Technology, volume 1905, pages 861-870,\\n     San Jose, CA, 1993.\\n   - O.L. Mangasarian, W.N. Street and W.H. Wolberg. Breast cancer diagnosis and \\n     prognosis via linear programming. Operations Research, 43(4), pages 570-577, \\n     July-August 1995.\\n   - W.H. Wolberg, W.N. Street, and O.L. Mangasarian. Machine learning techniques\\n     to diagnose breast cancer from fine-needle aspirates. Cancer Letters 77 (1994) \\n     163-171.',\n 'feature_names': array(['mean radius', 'mean texture', 'mean perimeter', 'mean area',\n        'mean smoothness', 'mean compactness', 'mean concavity',\n        'mean concave points', 'mean symmetry', 'mean fractal dimension',\n        'radius error', 'texture error', 'perimeter error', 'area error',\n        'smoothness error', 'compactness error', 'concavity error',\n        'concave points error', 'symmetry error',\n        'fractal dimension error', 'worst radius', 'worst texture',\n        'worst perimeter', 'worst area', 'worst smoothness',\n        'worst compactness', 'worst concavity', 'worst concave points',\n        'worst symmetry', 'worst fractal dimension'], dtype='<U23'),\n 'filename': 'breast_cancer.csv',\n 'data_module': 'sklearn.datasets.data'}"
     },
     "execution_count": 10,
     "metadata": {},
     "output_type": "execute_result"
    }
   ],
   "source": [
    "#carregando o dataset que está disponível na biblioteca sklearn\n",
    "from sklearn.datasets import load_breast_cancer\n",
    "dataset = load_breast_cancer()\n",
    "\n",
    "#Veja tudo que temos na base de dados\n",
    "dataset"
   ]
  },
  {
   "cell_type": "markdown",
   "source": [
    "**Organizando os dados em um dataframe: No dataframe temos os dados de cada tumor e também o target de cada um deles. Preste atenção na quantidade de observação que a base possui bem como todos os atributos**"
   ],
   "metadata": {
    "id": "CFvUnD2ixxd2"
   }
  },
  {
   "cell_type": "code",
   "source": [
    "#Agora vamos organizar a base de dados em um dataframe usando a biblioteca pandas. \n",
    "import pandas as pd\n",
    "df = pd.DataFrame(dataset.data, columns=[dataset.feature_names])\n",
    "#add o target\n",
    "df['diagnostico']=dataset.target\n",
    "df"
   ],
   "metadata": {
    "id": "qYD8eP-cbYxV",
    "executionInfo": {
     "status": "ok",
     "timestamp": 1672937660506,
     "user_tz": 180,
     "elapsed": 684,
     "user": {
      "displayName": "Milena Menezes Adão",
      "userId": "01995504081397239354"
     }
    },
    "outputId": "103389f7-cbb8-4f88-976a-7e0da51788d3",
    "colab": {
     "base_uri": "https://localhost:8080/",
     "height": 522
    }
   },
   "execution_count": 11,
   "outputs": [
    {
     "data": {
      "text/plain": "    mean radius mean texture mean perimeter mean area mean smoothness  \\\n0         17.99        10.38         122.80    1001.0         0.11840   \n1         20.57        17.77         132.90    1326.0         0.08474   \n2         19.69        21.25         130.00    1203.0         0.10960   \n3         11.42        20.38          77.58     386.1         0.14250   \n4         20.29        14.34         135.10    1297.0         0.10030   \n..          ...          ...            ...       ...             ...   \n564       21.56        22.39         142.00    1479.0         0.11100   \n565       20.13        28.25         131.20    1261.0         0.09780   \n566       16.60        28.08         108.30     858.1         0.08455   \n567       20.60        29.33         140.10    1265.0         0.11780   \n568        7.76        24.54          47.92     181.0         0.05263   \n\n    mean compactness mean concavity mean concave points mean symmetry  \\\n0            0.27760        0.30010             0.14710        0.2419   \n1            0.07864        0.08690             0.07017        0.1812   \n2            0.15990        0.19740             0.12790        0.2069   \n3            0.28390        0.24140             0.10520        0.2597   \n4            0.13280        0.19800             0.10430        0.1809   \n..               ...            ...                 ...           ...   \n564          0.11590        0.24390             0.13890        0.1726   \n565          0.10340        0.14400             0.09791        0.1752   \n566          0.10230        0.09251             0.05302        0.1590   \n567          0.27700        0.35140             0.15200        0.2397   \n568          0.04362        0.00000             0.00000        0.1587   \n\n    mean fractal dimension  ... worst texture worst perimeter worst area  \\\n0                  0.07871  ...         17.33          184.60     2019.0   \n1                  0.05667  ...         23.41          158.80     1956.0   \n2                  0.05999  ...         25.53          152.50     1709.0   \n3                  0.09744  ...         26.50           98.87      567.7   \n4                  0.05883  ...         16.67          152.20     1575.0   \n..                     ...  ...           ...             ...        ...   \n564                0.05623  ...         26.40          166.10     2027.0   \n565                0.05533  ...         38.25          155.00     1731.0   \n566                0.05648  ...         34.12          126.70     1124.0   \n567                0.07016  ...         39.42          184.60     1821.0   \n568                0.05884  ...         30.37           59.16      268.6   \n\n    worst smoothness worst compactness worst concavity worst concave points  \\\n0            0.16220           0.66560          0.7119               0.2654   \n1            0.12380           0.18660          0.2416               0.1860   \n2            0.14440           0.42450          0.4504               0.2430   \n3            0.20980           0.86630          0.6869               0.2575   \n4            0.13740           0.20500          0.4000               0.1625   \n..               ...               ...             ...                  ...   \n564          0.14100           0.21130          0.4107               0.2216   \n565          0.11660           0.19220          0.3215               0.1628   \n566          0.11390           0.30940          0.3403               0.1418   \n567          0.16500           0.86810          0.9387               0.2650   \n568          0.08996           0.06444          0.0000               0.0000   \n\n    worst symmetry worst fractal dimension diagnostico  \n0           0.4601                 0.11890           0  \n1           0.2750                 0.08902           0  \n2           0.3613                 0.08758           0  \n3           0.6638                 0.17300           0  \n4           0.2364                 0.07678           0  \n..             ...                     ...         ...  \n564         0.2060                 0.07115           0  \n565         0.2572                 0.06637           0  \n566         0.2218                 0.07820           0  \n567         0.4087                 0.12400           0  \n568         0.2871                 0.07039           1  \n\n[569 rows x 31 columns]",
      "text/html": "<div>\n<style scoped>\n    .dataframe tbody tr th:only-of-type {\n        vertical-align: middle;\n    }\n\n    .dataframe tbody tr th {\n        vertical-align: top;\n    }\n\n    .dataframe thead tr th {\n        text-align: left;\n    }\n</style>\n<table border=\"1\" class=\"dataframe\">\n  <thead>\n    <tr>\n      <th></th>\n      <th>mean radius</th>\n      <th>mean texture</th>\n      <th>mean perimeter</th>\n      <th>mean area</th>\n      <th>mean smoothness</th>\n      <th>mean compactness</th>\n      <th>mean concavity</th>\n      <th>mean concave points</th>\n      <th>mean symmetry</th>\n      <th>mean fractal dimension</th>\n      <th>...</th>\n      <th>worst texture</th>\n      <th>worst perimeter</th>\n      <th>worst area</th>\n      <th>worst smoothness</th>\n      <th>worst compactness</th>\n      <th>worst concavity</th>\n      <th>worst concave points</th>\n      <th>worst symmetry</th>\n      <th>worst fractal dimension</th>\n      <th>diagnostico</th>\n    </tr>\n  </thead>\n  <tbody>\n    <tr>\n      <th>0</th>\n      <td>17.99</td>\n      <td>10.38</td>\n      <td>122.80</td>\n      <td>1001.0</td>\n      <td>0.11840</td>\n      <td>0.27760</td>\n      <td>0.30010</td>\n      <td>0.14710</td>\n      <td>0.2419</td>\n      <td>0.07871</td>\n      <td>...</td>\n      <td>17.33</td>\n      <td>184.60</td>\n      <td>2019.0</td>\n      <td>0.16220</td>\n      <td>0.66560</td>\n      <td>0.7119</td>\n      <td>0.2654</td>\n      <td>0.4601</td>\n      <td>0.11890</td>\n      <td>0</td>\n    </tr>\n    <tr>\n      <th>1</th>\n      <td>20.57</td>\n      <td>17.77</td>\n      <td>132.90</td>\n      <td>1326.0</td>\n      <td>0.08474</td>\n      <td>0.07864</td>\n      <td>0.08690</td>\n      <td>0.07017</td>\n      <td>0.1812</td>\n      <td>0.05667</td>\n      <td>...</td>\n      <td>23.41</td>\n      <td>158.80</td>\n      <td>1956.0</td>\n      <td>0.12380</td>\n      <td>0.18660</td>\n      <td>0.2416</td>\n      <td>0.1860</td>\n      <td>0.2750</td>\n      <td>0.08902</td>\n      <td>0</td>\n    </tr>\n    <tr>\n      <th>2</th>\n      <td>19.69</td>\n      <td>21.25</td>\n      <td>130.00</td>\n      <td>1203.0</td>\n      <td>0.10960</td>\n      <td>0.15990</td>\n      <td>0.19740</td>\n      <td>0.12790</td>\n      <td>0.2069</td>\n      <td>0.05999</td>\n      <td>...</td>\n      <td>25.53</td>\n      <td>152.50</td>\n      <td>1709.0</td>\n      <td>0.14440</td>\n      <td>0.42450</td>\n      <td>0.4504</td>\n      <td>0.2430</td>\n      <td>0.3613</td>\n      <td>0.08758</td>\n      <td>0</td>\n    </tr>\n    <tr>\n      <th>3</th>\n      <td>11.42</td>\n      <td>20.38</td>\n      <td>77.58</td>\n      <td>386.1</td>\n      <td>0.14250</td>\n      <td>0.28390</td>\n      <td>0.24140</td>\n      <td>0.10520</td>\n      <td>0.2597</td>\n      <td>0.09744</td>\n      <td>...</td>\n      <td>26.50</td>\n      <td>98.87</td>\n      <td>567.7</td>\n      <td>0.20980</td>\n      <td>0.86630</td>\n      <td>0.6869</td>\n      <td>0.2575</td>\n      <td>0.6638</td>\n      <td>0.17300</td>\n      <td>0</td>\n    </tr>\n    <tr>\n      <th>4</th>\n      <td>20.29</td>\n      <td>14.34</td>\n      <td>135.10</td>\n      <td>1297.0</td>\n      <td>0.10030</td>\n      <td>0.13280</td>\n      <td>0.19800</td>\n      <td>0.10430</td>\n      <td>0.1809</td>\n      <td>0.05883</td>\n      <td>...</td>\n      <td>16.67</td>\n      <td>152.20</td>\n      <td>1575.0</td>\n      <td>0.13740</td>\n      <td>0.20500</td>\n      <td>0.4000</td>\n      <td>0.1625</td>\n      <td>0.2364</td>\n      <td>0.07678</td>\n      <td>0</td>\n    </tr>\n    <tr>\n      <th>...</th>\n      <td>...</td>\n      <td>...</td>\n      <td>...</td>\n      <td>...</td>\n      <td>...</td>\n      <td>...</td>\n      <td>...</td>\n      <td>...</td>\n      <td>...</td>\n      <td>...</td>\n      <td>...</td>\n      <td>...</td>\n      <td>...</td>\n      <td>...</td>\n      <td>...</td>\n      <td>...</td>\n      <td>...</td>\n      <td>...</td>\n      <td>...</td>\n      <td>...</td>\n      <td>...</td>\n    </tr>\n    <tr>\n      <th>564</th>\n      <td>21.56</td>\n      <td>22.39</td>\n      <td>142.00</td>\n      <td>1479.0</td>\n      <td>0.11100</td>\n      <td>0.11590</td>\n      <td>0.24390</td>\n      <td>0.13890</td>\n      <td>0.1726</td>\n      <td>0.05623</td>\n      <td>...</td>\n      <td>26.40</td>\n      <td>166.10</td>\n      <td>2027.0</td>\n      <td>0.14100</td>\n      <td>0.21130</td>\n      <td>0.4107</td>\n      <td>0.2216</td>\n      <td>0.2060</td>\n      <td>0.07115</td>\n      <td>0</td>\n    </tr>\n    <tr>\n      <th>565</th>\n      <td>20.13</td>\n      <td>28.25</td>\n      <td>131.20</td>\n      <td>1261.0</td>\n      <td>0.09780</td>\n      <td>0.10340</td>\n      <td>0.14400</td>\n      <td>0.09791</td>\n      <td>0.1752</td>\n      <td>0.05533</td>\n      <td>...</td>\n      <td>38.25</td>\n      <td>155.00</td>\n      <td>1731.0</td>\n      <td>0.11660</td>\n      <td>0.19220</td>\n      <td>0.3215</td>\n      <td>0.1628</td>\n      <td>0.2572</td>\n      <td>0.06637</td>\n      <td>0</td>\n    </tr>\n    <tr>\n      <th>566</th>\n      <td>16.60</td>\n      <td>28.08</td>\n      <td>108.30</td>\n      <td>858.1</td>\n      <td>0.08455</td>\n      <td>0.10230</td>\n      <td>0.09251</td>\n      <td>0.05302</td>\n      <td>0.1590</td>\n      <td>0.05648</td>\n      <td>...</td>\n      <td>34.12</td>\n      <td>126.70</td>\n      <td>1124.0</td>\n      <td>0.11390</td>\n      <td>0.30940</td>\n      <td>0.3403</td>\n      <td>0.1418</td>\n      <td>0.2218</td>\n      <td>0.07820</td>\n      <td>0</td>\n    </tr>\n    <tr>\n      <th>567</th>\n      <td>20.60</td>\n      <td>29.33</td>\n      <td>140.10</td>\n      <td>1265.0</td>\n      <td>0.11780</td>\n      <td>0.27700</td>\n      <td>0.35140</td>\n      <td>0.15200</td>\n      <td>0.2397</td>\n      <td>0.07016</td>\n      <td>...</td>\n      <td>39.42</td>\n      <td>184.60</td>\n      <td>1821.0</td>\n      <td>0.16500</td>\n      <td>0.86810</td>\n      <td>0.9387</td>\n      <td>0.2650</td>\n      <td>0.4087</td>\n      <td>0.12400</td>\n      <td>0</td>\n    </tr>\n    <tr>\n      <th>568</th>\n      <td>7.76</td>\n      <td>24.54</td>\n      <td>47.92</td>\n      <td>181.0</td>\n      <td>0.05263</td>\n      <td>0.04362</td>\n      <td>0.00000</td>\n      <td>0.00000</td>\n      <td>0.1587</td>\n      <td>0.05884</td>\n      <td>...</td>\n      <td>30.37</td>\n      <td>59.16</td>\n      <td>268.6</td>\n      <td>0.08996</td>\n      <td>0.06444</td>\n      <td>0.0000</td>\n      <td>0.0000</td>\n      <td>0.2871</td>\n      <td>0.07039</td>\n      <td>1</td>\n    </tr>\n  </tbody>\n</table>\n<p>569 rows × 31 columns</p>\n</div>"
     },
     "execution_count": 11,
     "metadata": {},
     "output_type": "execute_result"
    }
   ]
  },
  {
   "cell_type": "markdown",
   "source": [
    "__________________________________________________________________________________________________________________"
   ],
   "metadata": {
    "id": "R_dEGf3Y2_vt"
   }
  },
  {
   "cell_type": "markdown",
   "source": [
    "**1)** A partir do dataframe acima, que chamamos de df, identifique e divida as observações e o target. As observações devem ser referenciadas como X e os targets como Y. Por exemplo:\n",
    "\n",
    "X = observações\n",
    "\n",
    "Y = targets"
   ],
   "metadata": {
    "id": "7sJoOie-W5ny"
   }
  },
  {
   "cell_type": "code",
   "source": [
    "X=df[dataset.feature_names]\n",
    "Y=df['diagnostico']"
   ],
   "metadata": {
    "id": "WM7bE9bwzFZO",
    "executionInfo": {
     "status": "ok",
     "timestamp": 1672937750426,
     "user_tz": 180,
     "elapsed": 242,
     "user": {
      "displayName": "Milena Menezes Adão",
      "userId": "01995504081397239354"
     }
    }
   },
   "execution_count": 12,
   "outputs": []
  },
  {
   "cell_type": "markdown",
   "source": [
    "_________________________________________________________"
   ],
   "metadata": {
    "id": "KLWdWlOc3D5J"
   }
  },
  {
   "cell_type": "markdown",
   "source": [
    "**2)** Agora, divida  X e Y em treino, teste e validação"
   ],
   "metadata": {
    "id": "74HU0mPeZwgt"
   }
  },
  {
   "cell_type": "code",
   "source": [
    "#70% para treino\n",
    "percentual_treino=70\n",
    "qtd_linhas=len(df)\n",
    "\n",
    "qtd_treino=round((percentual_treino*qtd_linhas)/100)\n",
    "restante=round(qtd_linhas-qtd_treino)\n",
    "\n",
    "Xtreino=X[:qtd_treino]\n",
    "Ytreino=Y[:qtd_treino]\n",
    "\n",
    "Xteste=X[qtd_treino:qtd_treino+round(restante/2)]\n",
    "Yteste=Y[qtd_treino:qtd_treino+round(restante/2)]\n",
    "\n",
    "Xval=X[qtd_treino+round(restante/2):]\n",
    "Yval=Y[qtd_treino+round(restante/2):]"
   ],
   "metadata": {
    "id": "OHJSxLO9nNBl",
    "executionInfo": {
     "status": "ok",
     "timestamp": 1672938129288,
     "user_tz": 180,
     "elapsed": 242,
     "user": {
      "displayName": "Milena Menezes Adão",
      "userId": "01995504081397239354"
     }
    }
   },
   "execution_count": 13,
   "outputs": []
  },
  {
   "cell_type": "markdown",
   "source": [
    "_________________________________________________________"
   ],
   "metadata": {
    "id": "eeSgphV83Fqa"
   }
  },
  {
   "cell_type": "markdown",
   "source": [
    "**3)** A base de dados está pronta, então vamos utilizar agora o algoritmo SVM para treinar o modelo. Para isso, observe o código a seguir e faça as devidas modificações. Em seguida observe a acurácia deste modelo."
   ],
   "metadata": {
    "id": "y6d5W7rCaGH5"
   }
  },
  {
   "cell_type": "code",
   "source": [
    "from sklearn.metrics import accuracy_score \n",
    "from sklearn.svm import SVC\n",
    "import sklearn.metrics as metrics\n",
    "import numpy as np\n",
    "\n",
    "#Criando um modelo SVM variando os parâmetros C e gamma\n",
    "model=SVC(C=0.99, gamma=0.0000001)\n",
    "\n",
    "#Treinando o modelo. Use aqui suas observações de treino e os targets de treino\n",
    "model.fit(Xtreino, Ytreino)\n",
    "\n",
    "#Fazendo predições. Use aqui sua base de teste\n",
    "result = model.predict(Xteste)\n",
    "\n",
    "#mostrando os resultados preditos pelo modelo \n",
    "print('Resultado:')\n",
    "print(result)\n",
    "\n",
    "print('Resultado Esperado:')\n",
    "#Os resultados esperados são os targets de teste, mostre-os a seguir\n",
    "print(Yteste)\n",
    "\n",
    "\n",
    "#agora vamos calcular a acurária do modelo usando a base de testes\n",
    "print(\"Acurácia:\", metrics.accuracy_score(result,Yteste))"
   ],
   "metadata": {
    "id": "Re0g5sMeaFlC",
    "colab": {
     "base_uri": "https://localhost:8080/"
    },
    "executionInfo": {
     "status": "ok",
     "timestamp": 1672938204852,
     "user_tz": 180,
     "elapsed": 245,
     "user": {
      "displayName": "Milena Menezes Adão",
      "userId": "01995504081397239354"
     }
    },
    "outputId": "bfba435d-d86d-4aa0-a742-e70a08431452"
   },
   "execution_count": 14,
   "outputs": [
    {
     "name": "stdout",
     "output_type": "stream",
     "text": [
      "Resultado:\n",
      "[1 1 0 1 1 1 1 1 0 1 0 1 1 1 1 1 0 1 1 0 1 1 1 1 1 1 1 1 1 1 1 1 1 1 0 0 1\n",
      " 1 1 1 1 1 1 0 1 1 0 1 0 1 1 0 1 0 1 1 1 1 1 1 1 1 0 0 1 1 1 1 1 1 0 1 1 1\n",
      " 1 1 1 1 1 1 1 0 1 1 1 1]\n",
      "Resultado Esperado:\n",
      "    diagnostico\n",
      "398           1\n",
      "399           1\n",
      "400           0\n",
      "401           1\n",
      "402           1\n",
      "..          ...\n",
      "479           0\n",
      "480           1\n",
      "481           1\n",
      "482           1\n",
      "483           1\n",
      "\n",
      "[86 rows x 1 columns]\n",
      "Acurácia: 0.9651162790697675\n"
     ]
    },
    {
     "name": "stderr",
     "output_type": "stream",
     "text": [
      "C:\\Users\\vitor\\PycharmProjects\\mentorama\\venv\\lib\\site-packages\\sklearn\\utils\\validation.py:1141: DataConversionWarning: A column-vector y was passed when a 1d array was expected. Please change the shape of y to (n_samples, ), for example using ravel().\n",
      "  y = column_or_1d(y, warn=True)\n"
     ]
    }
   ]
  },
  {
   "cell_type": "code",
   "source": [
    "result = model.predict(Xval)\n",
    "\n",
    "#mostrando os resultados preditos pelo modelo \n",
    "print('Resultado:')\n",
    "print(result)\n",
    "\n",
    "print('Resultado Esperado:')\n",
    "#Os resultados esperados são os targets de teste, mostre-os a seguir\n",
    "print(Yval)\n",
    "\n",
    "\n",
    "#agora vamos calcular a acurária do modelo usando a base de testes\n",
    "print(\"Acurácia:\", metrics.accuracy_score(result,Yval))"
   ],
   "metadata": {
    "colab": {
     "base_uri": "https://localhost:8080/"
    },
    "id": "HOoGiGHjytbX",
    "executionInfo": {
     "status": "ok",
     "timestamp": 1672938272134,
     "user_tz": 180,
     "elapsed": 248,
     "user": {
      "displayName": "Milena Menezes Adão",
      "userId": "01995504081397239354"
     }
    },
    "outputId": "ebf72f3f-8e03-4560-ae5a-8bbf090a5876"
   },
   "execution_count": 15,
   "outputs": [
    {
     "name": "stdout",
     "output_type": "stream",
     "text": [
      "Resultado:\n",
      "[1 1 1 0 1 0 1 0 0 1 1 1 1 1 0 0 1 1 1 0 1 1 1 1 0 0 1 1 1 1 0 1 0 0 1 1 1\n",
      " 0 1 1 1 1 1 1 1 1 1 1 1 0 1 0 1 1 1 1 1 1 1 1 1 1 1 1 1 1 1 1 1 1 1 1 1 1\n",
      " 1 1 1 1 0 0 0 0 0 0 1]\n",
      "Resultado Esperado:\n",
      "    diagnostico\n",
      "484           1\n",
      "485           1\n",
      "486           1\n",
      "487           0\n",
      "488           1\n",
      "..          ...\n",
      "564           0\n",
      "565           0\n",
      "566           0\n",
      "567           0\n",
      "568           1\n",
      "\n",
      "[85 rows x 1 columns]\n",
      "Acurácia: 0.9411764705882353\n"
     ]
    }
   ]
  },
  {
   "cell_type": "markdown",
   "source": [
    "_________________________________________________________"
   ],
   "metadata": {
    "id": "G2gQ0-5D3HE9"
   }
  },
  {
   "cell_type": "markdown",
   "source": [
    "_________________________________________________________"
   ],
   "metadata": {
    "id": "g9LEp9mZ3IkA"
   }
  },
  {
   "cell_type": "markdown",
   "source": [
    "**4)** Agora vamos utilizar regressão logística no lugar do algirítmo SVM para treinar o modelo"
   ],
   "metadata": {
    "id": "UHRXospPlCjv"
   }
  },
  {
   "cell_type": "code",
   "source": [
    "from sklearn.linear_model import LogisticRegression\n",
    "\n",
    "#Criando um modelo de regressão logística variando os parâmetros tol e max_iter\n",
    "model=LogisticRegression(tol=0.99,max_iter=20)\n",
    "\n",
    "#Treinando o modelo. Use aqui suas observações de treino e os targets de treino\n",
    "model.fit(Xtreino, Ytreino)\n",
    "\n",
    "#Fazendo predições. Use aqui sua base de teste\n",
    "result = model.predict(Xteste)\n",
    "\n",
    "#mostrando os resultados preditos pelo modelo \n",
    "print('Resultado:')\n",
    "print(result)\n",
    "\n",
    "print('Resultado Esperado:')\n",
    "#Os resultados esperados são os targets de teste, mostre-os a seguir\n",
    "print(Yteste)\n",
    "\n",
    "\n",
    "#agora vamos calcular a acurária do modelo usando a base de testes\n",
    "print(\"Acurácia:\", metrics.accuracy_score(result,Yteste))"
   ],
   "metadata": {
    "id": "nllz3NaolBBS",
    "colab": {
     "base_uri": "https://localhost:8080/"
    },
    "executionInfo": {
     "status": "ok",
     "timestamp": 1672938442069,
     "user_tz": 180,
     "elapsed": 378,
     "user": {
      "displayName": "Milena Menezes Adão",
      "userId": "01995504081397239354"
     }
    },
    "outputId": "bb6380af-8b1e-4124-bd0d-d5753aa14681"
   },
   "execution_count": 16,
   "outputs": [
    {
     "name": "stdout",
     "output_type": "stream",
     "text": [
      "Resultado:\n",
      "[1 1 0 1 1 1 1 1 1 1 0 1 1 1 1 1 0 1 1 0 1 1 1 1 1 1 1 1 1 1 1 1 1 1 0 0 1\n",
      " 0 1 1 1 1 1 0 1 1 0 1 0 1 1 0 1 0 1 1 1 1 1 1 1 1 0 0 1 1 1 1 1 1 0 1 1 1\n",
      " 0 1 1 1 1 1 1 1 1 0 1 1]\n",
      "Resultado Esperado:\n",
      "    diagnostico\n",
      "398           1\n",
      "399           1\n",
      "400           0\n",
      "401           1\n",
      "402           1\n",
      "..          ...\n",
      "479           0\n",
      "480           1\n",
      "481           1\n",
      "482           1\n",
      "483           1\n",
      "\n",
      "[86 rows x 1 columns]\n",
      "Acurácia: 0.9534883720930233\n"
     ]
    },
    {
     "name": "stderr",
     "output_type": "stream",
     "text": [
      "C:\\Users\\vitor\\PycharmProjects\\mentorama\\venv\\lib\\site-packages\\sklearn\\utils\\validation.py:1141: DataConversionWarning: A column-vector y was passed when a 1d array was expected. Please change the shape of y to (n_samples, ), for example using ravel().\n",
      "  y = column_or_1d(y, warn=True)\n",
      "C:\\Users\\vitor\\PycharmProjects\\mentorama\\venv\\lib\\site-packages\\sklearn\\linear_model\\_logistic.py:458: ConvergenceWarning: lbfgs failed to converge (status=1):\n",
      "STOP: TOTAL NO. of ITERATIONS REACHED LIMIT.\n",
      "\n",
      "Increase the number of iterations (max_iter) or scale the data as shown in:\n",
      "    https://scikit-learn.org/stable/modules/preprocessing.html\n",
      "Please also refer to the documentation for alternative solver options:\n",
      "    https://scikit-learn.org/stable/modules/linear_model.html#logistic-regression\n",
      "  n_iter_i = _check_optimize_result(\n"
     ]
    }
   ]
  },
  {
   "cell_type": "code",
   "source": [
    "#Fazendo predições. Use aqui sua base de teste\n",
    "result = model.predict(Xval)\n",
    "\n",
    "#mostrando os resultados preditos pelo modelo \n",
    "print('Resultado:')\n",
    "print(result)\n",
    "\n",
    "print('Resultado Esperado:')\n",
    "#Os resultados esperados são os targets de teste, mostre-os a seguir\n",
    "print(Yval)\n",
    "\n",
    "\n",
    "#agora vamos calcular a acurária do modelo usando a base de testes\n",
    "print(\"Acurácia:\", metrics.accuracy_score(result,Yval))"
   ],
   "metadata": {
    "colab": {
     "base_uri": "https://localhost:8080/"
    },
    "id": "gSN57dKf05GA",
    "executionInfo": {
     "status": "ok",
     "timestamp": 1672938468703,
     "user_tz": 180,
     "elapsed": 250,
     "user": {
      "displayName": "Milena Menezes Adão",
      "userId": "01995504081397239354"
     }
    },
    "outputId": "3d90844e-3b1c-4f82-a868-66f807358f52"
   },
   "execution_count": 17,
   "outputs": [
    {
     "name": "stdout",
     "output_type": "stream",
     "text": [
      "Resultado:\n",
      "[1 1 1 0 1 0 1 0 0 1 1 1 1 1 0 0 1 1 1 0 1 1 1 1 1 1 1 1 0 0 0 1 0 0 1 1 1\n",
      " 0 1 1 1 1 1 1 1 1 1 1 1 0 1 0 1 1 1 1 1 1 1 1 1 1 1 1 1 1 1 1 1 1 1 1 1 1\n",
      " 1 1 1 1 1 0 0 0 0 0 1]\n",
      "Resultado Esperado:\n",
      "    diagnostico\n",
      "484           1\n",
      "485           1\n",
      "486           1\n",
      "487           0\n",
      "488           1\n",
      "..          ...\n",
      "564           0\n",
      "565           0\n",
      "566           0\n",
      "567           0\n",
      "568           1\n",
      "\n",
      "[85 rows x 1 columns]\n",
      "Acurácia: 0.9294117647058824\n"
     ]
    }
   ]
  },
  {
   "cell_type": "markdown",
   "source": [
    "_________________________________________________________"
   ],
   "metadata": {
    "id": "2LPK7dPX3LkU"
   }
  },
  {
   "cell_type": "markdown",
   "source": [
    "_________________________________________________________"
   ],
   "metadata": {
    "id": "iM3NQXtj3Okg"
   }
  },
  {
   "cell_type": "markdown",
   "source": [
    "**6)** Agora vamos utilizar o algorítmo KNN no lugar de regressão logística e SVM para treinar o modelo"
   ],
   "metadata": {
    "id": "EM0KvuPrmwPL"
   }
  },
  {
   "cell_type": "code",
   "source": [
    "from sklearn.neighbors import KNeighborsClassifier\n",
    "bestmodel=KNeighborsClassifier(n_neighbors=10,leaf_size=10)\n",
    "acuracia =0\n",
    "\n",
    "\n",
    "for nn in [5,20,30,40,50]:\n",
    "  for ls in [10,50,100,200]:\n",
    "     \n",
    "    #Criando um modelo de regressão logística variando os parâmetros n_neighbors e leaf_size\n",
    "    model=KNeighborsClassifier(n_neighbors=nn,leaf_size=ls)\n",
    "\n",
    "    #Treinando o modelo. Use aqui suas observações de treino e os targets de treino\n",
    "    model.fit(Xtreino, Ytreino)\n",
    "\n",
    "    #Fazendo predições. Use aqui sua base de teste\n",
    "    result = model.predict(Xteste)\n",
    "\n",
    "    #mostrando os resultados preditos pelo modelo \n",
    "    print('Resultado:')\n",
    "    print(result)\n",
    "\n",
    "    print('Resultado Esperado:')\n",
    "    #Os resultados esperados são os targets de teste, mostre-os a seguir\n",
    "    print('targets de teste aqui')\n",
    "\n",
    "\n",
    "    #agora vamos calcular a acurária do modelo usando a base de testes\n",
    "    \n",
    "    if acuracia < metrics.accuracy_score(result,Yteste):\n",
    "      bestmodel=model\n",
    "      acuracia=metrics.accuracy_score(result,Yteste)\n",
    "    print(\"Acurácia:\", metrics.accuracy_score(result,Yteste))"
   ],
   "metadata": {
    "id": "6NEvhekbmuac",
    "colab": {
     "base_uri": "https://localhost:8080/"
    },
    "executionInfo": {
     "status": "ok",
     "timestamp": 1672938640202,
     "user_tz": 180,
     "elapsed": 544,
     "user": {
      "displayName": "Milena Menezes Adão",
      "userId": "01995504081397239354"
     }
    },
    "outputId": "8cbd213a-f4e9-4061-b641-fa2607cd4f37"
   },
   "execution_count": 18,
   "outputs": [
    {
     "name": "stderr",
     "output_type": "stream",
     "text": [
      "C:\\Users\\vitor\\PycharmProjects\\mentorama\\venv\\lib\\site-packages\\sklearn\\neighbors\\_classification.py:215: DataConversionWarning: A column-vector y was passed when a 1d array was expected. Please change the shape of y to (n_samples,), for example using ravel().\n",
      "  return self._fit(X, y)\n"
     ]
    },
    {
     "name": "stdout",
     "output_type": "stream",
     "text": [
      "Resultado:\n",
      "[1 1 0 1 1 1 1 1 0 1 0 1 1 1 1 1 0 1 1 0 1 1 1 1 1 1 1 1 1 1 1 1 1 1 0 0 1\n",
      " 0 1 1 1 1 1 0 1 1 0 1 0 1 1 0 1 0 1 1 1 1 1 1 1 1 0 0 1 1 1 0 1 1 0 1 1 1\n",
      " 0 1 1 1 0 1 1 0 1 0 1 1]\n",
      "Resultado Esperado:\n",
      "targets de teste aqui\n",
      "Acurácia: 0.9302325581395349\n",
      "Resultado:\n",
      "[1 1 0 1 1 1 1 1 0 1 0 1 1 1 1 1 0 1 1 0 1 1 1 1 1 1 1 1 1 1 1 1 1 1 0 0 1\n",
      " 0 1 1 1 1 1 0 1 1 0 1 0 1 1 0 1 0 1 1 1 1 1 1 1 1 0 0 1 1 1 0 1 1 0 1 1 1\n",
      " 0 1 1 1 0 1 1 0 1 0 1 1]\n",
      "Resultado Esperado:\n",
      "targets de teste aqui\n",
      "Acurácia: 0.9302325581395349\n",
      "Resultado:\n",
      "[1 1 0 1 1 1 1 1 0 1 0 1 1 1 1 1 0 1 1 0 1 1 1 1 1 1 1 1 1 1 1 1 1 1 0 0 1\n",
      " 0 1 1 1 1 1 0 1 1 0 1 0 1 1 0 1 0 1 1 1 1 1 1 1 1 0 0 1 1 1 0 1 1 0 1 1 1\n",
      " 0 1 1 1 0 1 1 0 1 0 1 1]\n",
      "Resultado Esperado:\n",
      "targets de teste aqui\n",
      "Acurácia: 0.9302325581395349\n",
      "Resultado:\n",
      "[1 1 0 1 1 1 1 1 0 1 0 1 1 1 1 1 0 1 1 0 1 1 1 1 1 1 1 1 1 1 1 1 1 1 0 0 1\n",
      " 0 1 1 1 1 1 0 1 1 0 1 0 1 1 0 1 0 1 1 1 1 1 1 1 1 0 0 1 1 1 0 1 1 0 1 1 1\n",
      " 0 1 1 1 0 1 1 0 1 0 1 1]\n",
      "Resultado Esperado:\n",
      "targets de teste aqui\n",
      "Acurácia: 0.9302325581395349\n"
     ]
    },
    {
     "name": "stderr",
     "output_type": "stream",
     "text": [
      "C:\\Users\\vitor\\PycharmProjects\\mentorama\\venv\\lib\\site-packages\\sklearn\\neighbors\\_classification.py:215: DataConversionWarning: A column-vector y was passed when a 1d array was expected. Please change the shape of y to (n_samples,), for example using ravel().\n",
      "  return self._fit(X, y)\n",
      "C:\\Users\\vitor\\PycharmProjects\\mentorama\\venv\\lib\\site-packages\\sklearn\\neighbors\\_classification.py:215: DataConversionWarning: A column-vector y was passed when a 1d array was expected. Please change the shape of y to (n_samples,), for example using ravel().\n",
      "  return self._fit(X, y)\n",
      "C:\\Users\\vitor\\PycharmProjects\\mentorama\\venv\\lib\\site-packages\\sklearn\\neighbors\\_classification.py:215: DataConversionWarning: A column-vector y was passed when a 1d array was expected. Please change the shape of y to (n_samples,), for example using ravel().\n",
      "  return self._fit(X, y)\n",
      "C:\\Users\\vitor\\PycharmProjects\\mentorama\\venv\\lib\\site-packages\\sklearn\\neighbors\\_classification.py:215: DataConversionWarning: A column-vector y was passed when a 1d array was expected. Please change the shape of y to (n_samples,), for example using ravel().\n",
      "  return self._fit(X, y)\n"
     ]
    },
    {
     "name": "stdout",
     "output_type": "stream",
     "text": [
      "Resultado:\n",
      "[1 1 0 1 1 1 1 1 0 1 0 1 1 1 1 1 0 1 1 0 1 1 1 1 1 1 1 1 1 1 1 1 1 1 0 0 1\n",
      " 0 1 1 1 1 1 0 1 1 0 1 0 1 1 0 1 0 1 1 1 1 1 1 1 1 0 0 1 1 1 1 1 1 0 1 1 1\n",
      " 0 1 1 1 0 1 1 0 1 0 1 1]\n",
      "Resultado Esperado:\n",
      "targets de teste aqui\n",
      "Acurácia: 0.9418604651162791\n",
      "Resultado:\n",
      "[1 1 0 1 1 1 1 1 0 1 0 1 1 1 1 1 0 1 1 0 1 1 1 1 1 1 1 1 1 1 1 1 1 1 0 0 1\n",
      " 0 1 1 1 1 1 0 1 1 0 1 0 1 1 0 1 0 1 1 1 1 1 1 1 1 0 0 1 1 1 1 1 1 0 1 1 1\n",
      " 0 1 1 1 0 1 1 0 1 0 1 1]\n",
      "Resultado Esperado:\n",
      "targets de teste aqui\n",
      "Acurácia: 0.9418604651162791\n",
      "Resultado:\n",
      "[1 1 0 1 1 1 1 1 0 1 0 1 1 1 1 1 0 1 1 0 1 1 1 1 1 1 1 1 1 1 1 1 1 1 0 0 1\n",
      " 0 1 1 1 1 1 0 1 1 0 1 0 1 1 0 1 0 1 1 1 1 1 1 1 1 0 0 1 1 1 1 1 1 0 1 1 1\n",
      " 0 1 1 1 0 1 1 0 1 0 1 1]\n",
      "Resultado Esperado:\n",
      "targets de teste aqui\n",
      "Acurácia: 0.9418604651162791\n",
      "Resultado:\n",
      "[1 1 0 1 1 1 1 1 0 1 0 1 1 1 1 1 0 1 1 0 1 1 1 1 1 1 1 1 1 1 1 1 1 1 0 0 1\n",
      " 0 1 1 1 1 1 0 1 1 0 1 0 1 1 0 1 0 1 1 1 1 1 1 1 1 0 0 1 1 1 1 1 1 0 1 1 1\n",
      " 0 1 1 1 0 1 1 0 1 0 1 1]\n",
      "Resultado Esperado:\n",
      "targets de teste aqui\n",
      "Acurácia: 0.9418604651162791\n",
      "Resultado:\n",
      "[1 1 0 1 1 1 1 1 0 1 0 1 1 1 1 1 0 1 1 0 1 1 1 1 1 1 1 1 1 1 1 1 1 1 0 0 1\n",
      " 0 1 1 1 1 1 0 1 1 0 1 0 1 1 0 1 0 1 1 1 1 1 1 1 1 0 0 1 1 1 1 1 1 0 1 1 1\n",
      " 0 1 1 1 1 1 1 0 1 0 1 1]\n",
      "Resultado Esperado:\n",
      "targets de teste aqui\n",
      "Acurácia: 0.9534883720930233\n",
      "Resultado:\n",
      "[1 1 0 1 1 1 1 1 0 1 0 1 1 1 1 1 0 1 1 0 1 1 1 1 1 1 1 1 1 1 1 1 1 1 0 0 1\n",
      " 0 1 1 1 1 1 0 1 1 0 1 0 1 1 0 1 0 1 1 1 1 1 1 1 1 0 0 1 1 1 1 1 1 0 1 1 1\n",
      " 0 1 1 1 1 1 1 0 1 0 1 1]\n",
      "Resultado Esperado:\n",
      "targets de teste aqui\n",
      "Acurácia: 0.9534883720930233\n",
      "Resultado:\n",
      "[1 1 0 1 1 1 1 1 0 1 0 1 1 1 1 1 0 1 1 0 1 1 1 1 1 1 1 1 1 1 1 1 1 1 0 0 1\n",
      " 0 1 1 1 1 1 0 1 1 0 1 0 1 1 0 1 0 1 1 1 1 1 1 1 1 0 0 1 1 1 1 1 1 0 1 1 1\n",
      " 0 1 1 1 1 1 1 0 1 0 1 1]\n",
      "Resultado Esperado:\n",
      "targets de teste aqui\n",
      "Acurácia: 0.9534883720930233\n"
     ]
    },
    {
     "name": "stderr",
     "output_type": "stream",
     "text": [
      "C:\\Users\\vitor\\PycharmProjects\\mentorama\\venv\\lib\\site-packages\\sklearn\\neighbors\\_classification.py:215: DataConversionWarning: A column-vector y was passed when a 1d array was expected. Please change the shape of y to (n_samples,), for example using ravel().\n",
      "  return self._fit(X, y)\n",
      "C:\\Users\\vitor\\PycharmProjects\\mentorama\\venv\\lib\\site-packages\\sklearn\\neighbors\\_classification.py:215: DataConversionWarning: A column-vector y was passed when a 1d array was expected. Please change the shape of y to (n_samples,), for example using ravel().\n",
      "  return self._fit(X, y)\n",
      "C:\\Users\\vitor\\PycharmProjects\\mentorama\\venv\\lib\\site-packages\\sklearn\\neighbors\\_classification.py:215: DataConversionWarning: A column-vector y was passed when a 1d array was expected. Please change the shape of y to (n_samples,), for example using ravel().\n",
      "  return self._fit(X, y)\n",
      "C:\\Users\\vitor\\PycharmProjects\\mentorama\\venv\\lib\\site-packages\\sklearn\\neighbors\\_classification.py:215: DataConversionWarning: A column-vector y was passed when a 1d array was expected. Please change the shape of y to (n_samples,), for example using ravel().\n",
      "  return self._fit(X, y)\n",
      "C:\\Users\\vitor\\PycharmProjects\\mentorama\\venv\\lib\\site-packages\\sklearn\\neighbors\\_classification.py:215: DataConversionWarning: A column-vector y was passed when a 1d array was expected. Please change the shape of y to (n_samples,), for example using ravel().\n",
      "  return self._fit(X, y)\n",
      "C:\\Users\\vitor\\PycharmProjects\\mentorama\\venv\\lib\\site-packages\\sklearn\\neighbors\\_classification.py:215: DataConversionWarning: A column-vector y was passed when a 1d array was expected. Please change the shape of y to (n_samples,), for example using ravel().\n",
      "  return self._fit(X, y)\n",
      "C:\\Users\\vitor\\PycharmProjects\\mentorama\\venv\\lib\\site-packages\\sklearn\\neighbors\\_classification.py:215: DataConversionWarning: A column-vector y was passed when a 1d array was expected. Please change the shape of y to (n_samples,), for example using ravel().\n",
      "  return self._fit(X, y)\n"
     ]
    },
    {
     "name": "stdout",
     "output_type": "stream",
     "text": [
      "Resultado:\n",
      "[1 1 0 1 1 1 1 1 0 1 0 1 1 1 1 1 0 1 1 0 1 1 1 1 1 1 1 1 1 1 1 1 1 1 0 0 1\n",
      " 0 1 1 1 1 1 0 1 1 0 1 0 1 1 0 1 0 1 1 1 1 1 1 1 1 0 0 1 1 1 1 1 1 0 1 1 1\n",
      " 0 1 1 1 1 1 1 0 1 0 1 1]\n",
      "Resultado Esperado:\n",
      "targets de teste aqui\n",
      "Acurácia: 0.9534883720930233\n",
      "Resultado:\n",
      "[1 1 0 1 1 1 1 1 0 1 0 1 1 1 1 0 0 1 1 0 1 1 1 1 1 1 1 1 1 1 1 1 1 1 0 0 1\n",
      " 0 1 1 1 1 1 0 1 1 0 1 0 1 1 0 1 0 1 1 1 1 1 1 1 1 0 0 1 1 1 1 1 1 0 1 1 1\n",
      " 0 1 1 1 1 1 1 0 1 0 1 1]\n",
      "Resultado Esperado:\n",
      "targets de teste aqui\n",
      "Acurácia: 0.9418604651162791\n",
      "Resultado:\n",
      "[1 1 0 1 1 1 1 1 0 1 0 1 1 1 1 0 0 1 1 0 1 1 1 1 1 1 1 1 1 1 1 1 1 1 0 0 1\n",
      " 0 1 1 1 1 1 0 1 1 0 1 0 1 1 0 1 0 1 1 1 1 1 1 1 1 0 0 1 1 1 1 1 1 0 1 1 1\n",
      " 0 1 1 1 1 1 1 0 1 0 1 1]\n",
      "Resultado Esperado:\n",
      "targets de teste aqui\n",
      "Acurácia: 0.9418604651162791\n",
      "Resultado:\n",
      "[1 1 0 1 1 1 1 1 0 1 0 1 1 1 1 0 0 1 1 0 1 1 1 1 1 1 1 1 1 1 1 1 1 1 0 0 1\n",
      " 0 1 1 1 1 1 0 1 1 0 1 0 1 1 0 1 0 1 1 1 1 1 1 1 1 0 0 1 1 1 1 1 1 0 1 1 1\n",
      " 0 1 1 1 1 1 1 0 1 0 1 1]\n",
      "Resultado Esperado:\n",
      "targets de teste aqui\n",
      "Acurácia: 0.9418604651162791\n",
      "Resultado:\n",
      "[1 1 0 1 1 1 1 1 0 1 0 1 1 1 1 0 0 1 1 0 1 1 1 1 1 1 1 1 1 1 1 1 1 1 0 0 1\n",
      " 0 1 1 1 1 1 0 1 1 0 1 0 1 1 0 1 0 1 1 1 1 1 1 1 1 0 0 1 1 1 1 1 1 0 1 1 1\n",
      " 0 1 1 1 1 1 1 0 1 0 1 1]\n",
      "Resultado Esperado:\n",
      "targets de teste aqui\n",
      "Acurácia: 0.9418604651162791\n",
      "Resultado:\n",
      "[1 1 0 1 1 1 1 1 0 1 0 1 1 1 1 0 0 1 1 0 1 1 1 1 1 1 1 1 1 1 1 1 1 1 0 0 1\n",
      " 0 1 1 1 1 1 0 1 1 0 1 0 1 1 0 1 0 1 1 1 1 1 1 1 1 0 0 1 1 1 1 1 1 0 1 1 1\n",
      " 0 1 1 1 1 1 1 0 1 1 1 1]\n",
      "Resultado Esperado:\n",
      "targets de teste aqui\n",
      "Acurácia: 0.9534883720930233\n"
     ]
    },
    {
     "name": "stderr",
     "output_type": "stream",
     "text": [
      "C:\\Users\\vitor\\PycharmProjects\\mentorama\\venv\\lib\\site-packages\\sklearn\\neighbors\\_classification.py:215: DataConversionWarning: A column-vector y was passed when a 1d array was expected. Please change the shape of y to (n_samples,), for example using ravel().\n",
      "  return self._fit(X, y)\n",
      "C:\\Users\\vitor\\PycharmProjects\\mentorama\\venv\\lib\\site-packages\\sklearn\\neighbors\\_classification.py:215: DataConversionWarning: A column-vector y was passed when a 1d array was expected. Please change the shape of y to (n_samples,), for example using ravel().\n",
      "  return self._fit(X, y)\n",
      "C:\\Users\\vitor\\PycharmProjects\\mentorama\\venv\\lib\\site-packages\\sklearn\\neighbors\\_classification.py:215: DataConversionWarning: A column-vector y was passed when a 1d array was expected. Please change the shape of y to (n_samples,), for example using ravel().\n",
      "  return self._fit(X, y)\n",
      "C:\\Users\\vitor\\PycharmProjects\\mentorama\\venv\\lib\\site-packages\\sklearn\\neighbors\\_classification.py:215: DataConversionWarning: A column-vector y was passed when a 1d array was expected. Please change the shape of y to (n_samples,), for example using ravel().\n",
      "  return self._fit(X, y)\n",
      "C:\\Users\\vitor\\PycharmProjects\\mentorama\\venv\\lib\\site-packages\\sklearn\\neighbors\\_classification.py:215: DataConversionWarning: A column-vector y was passed when a 1d array was expected. Please change the shape of y to (n_samples,), for example using ravel().\n",
      "  return self._fit(X, y)\n",
      "C:\\Users\\vitor\\PycharmProjects\\mentorama\\venv\\lib\\site-packages\\sklearn\\neighbors\\_classification.py:215: DataConversionWarning: A column-vector y was passed when a 1d array was expected. Please change the shape of y to (n_samples,), for example using ravel().\n",
      "  return self._fit(X, y)\n"
     ]
    },
    {
     "name": "stdout",
     "output_type": "stream",
     "text": [
      "Resultado:\n",
      "[1 1 0 1 1 1 1 1 0 1 0 1 1 1 1 0 0 1 1 0 1 1 1 1 1 1 1 1 1 1 1 1 1 1 0 0 1\n",
      " 0 1 1 1 1 1 0 1 1 0 1 0 1 1 0 1 0 1 1 1 1 1 1 1 1 0 0 1 1 1 1 1 1 0 1 1 1\n",
      " 0 1 1 1 1 1 1 0 1 1 1 1]\n",
      "Resultado Esperado:\n",
      "targets de teste aqui\n",
      "Acurácia: 0.9534883720930233\n",
      "Resultado:\n",
      "[1 1 0 1 1 1 1 1 0 1 0 1 1 1 1 0 0 1 1 0 1 1 1 1 1 1 1 1 1 1 1 1 1 1 0 0 1\n",
      " 0 1 1 1 1 1 0 1 1 0 1 0 1 1 0 1 0 1 1 1 1 1 1 1 1 0 0 1 1 1 1 1 1 0 1 1 1\n",
      " 0 1 1 1 1 1 1 0 1 1 1 1]\n",
      "Resultado Esperado:\n",
      "targets de teste aqui\n",
      "Acurácia: 0.9534883720930233\n",
      "Resultado:\n",
      "[1 1 0 1 1 1 1 1 0 1 0 1 1 1 1 0 0 1 1 0 1 1 1 1 1 1 1 1 1 1 1 1 1 1 0 0 1\n",
      " 0 1 1 1 1 1 0 1 1 0 1 0 1 1 0 1 0 1 1 1 1 1 1 1 1 0 0 1 1 1 1 1 1 0 1 1 1\n",
      " 0 1 1 1 1 1 1 0 1 1 1 1]\n",
      "Resultado Esperado:\n",
      "targets de teste aqui\n",
      "Acurácia: 0.9534883720930233\n"
     ]
    },
    {
     "name": "stderr",
     "output_type": "stream",
     "text": [
      "C:\\Users\\vitor\\PycharmProjects\\mentorama\\venv\\lib\\site-packages\\sklearn\\neighbors\\_classification.py:215: DataConversionWarning: A column-vector y was passed when a 1d array was expected. Please change the shape of y to (n_samples,), for example using ravel().\n",
      "  return self._fit(X, y)\n",
      "C:\\Users\\vitor\\PycharmProjects\\mentorama\\venv\\lib\\site-packages\\sklearn\\neighbors\\_classification.py:215: DataConversionWarning: A column-vector y was passed when a 1d array was expected. Please change the shape of y to (n_samples,), for example using ravel().\n",
      "  return self._fit(X, y)\n"
     ]
    }
   ]
  },
  {
   "cell_type": "code",
   "source": [
    "result = bestmodel.predict(Xval)\n",
    "print(\"Acurácia:\", metrics.accuracy_score(result,Yval))"
   ],
   "metadata": {
    "colab": {
     "base_uri": "https://localhost:8080/"
    },
    "id": "CxT1gkhRtWn5",
    "executionInfo": {
     "status": "ok",
     "timestamp": 1672938698546,
     "user_tz": 180,
     "elapsed": 231,
     "user": {
      "displayName": "Milena Menezes Adão",
      "userId": "01995504081397239354"
     }
    },
    "outputId": "5a858ad7-e0c9-47a2-f12a-9a13cdbf8221"
   },
   "execution_count": 19,
   "outputs": [
    {
     "name": "stdout",
     "output_type": "stream",
     "text": [
      "Acurácia: 0.9529411764705882\n"
     ]
    }
   ]
  },
  {
   "cell_type": "code",
   "source": [
    "acuracia"
   ],
   "metadata": {
    "id": "XWbaiu9MVkRR"
   },
   "execution_count": 20,
   "outputs": [
    {
     "data": {
      "text/plain": "0.9534883720930233"
     },
     "execution_count": 20,
     "metadata": {},
     "output_type": "execute_result"
    }
   ]
  },
  {
   "cell_type": "markdown",
   "source": [
    "_________________________________________________________"
   ],
   "metadata": {
    "id": "DiOayNs63R-7"
   }
  },
  {
   "cell_type": "markdown",
   "source": [
    "_________________________________________________________"
   ],
   "metadata": {
    "id": "Vylh-mog3WFa"
   }
  }
 ]
}
